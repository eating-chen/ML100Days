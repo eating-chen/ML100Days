{
 "cells": [
  {
   "cell_type": "markdown",
   "metadata": {},
   "source": [
    "### 作業目的: 使用樹型模型進行文章分類\n",
    "\n",
    "本次作業主利用[Amazon Review data中的All Beauty](https://nijianmo.github.io/amazon/index.html)來進行review評價分類(文章分類)\n",
    "\n",
    "資料中將review分為1,2,3,4,5分，而在這份作業，我們將評論改分為差評價、普通評價、優良評價(1,2-->1差評、3-->2普通評價、4,5-->3優良評價)"
   ]
  },
  {
   "cell_type": "markdown",
   "metadata": {},
   "source": [
    "### 載入套件"
   ]
  },
  {
   "cell_type": "code",
   "execution_count": 1,
   "metadata": {},
   "outputs": [],
   "source": [
    "import json\n",
    "import re\n",
    "from sklearn.tree import DecisionTreeClassifier\n",
    "from sklearn.ensemble import AdaBoostClassifier, RandomForestClassifier\n",
    "from sklearn.metrics import classification_report, confusion_matrix\n",
    "from sklearn.model_selection import train_test_split\n",
    "from sklearn.feature_extraction.text import CountVectorizer, TfidfVectorizer, TfidfTransformer"
   ]
  },
  {
   "cell_type": "markdown",
   "metadata": {},
   "source": [
    "### 資料前處理\n",
    "文本資料較為龐大，這裡我們取前10000筆資料來進行作業練習"
   ]
  },
  {
   "cell_type": "code",
   "execution_count": 2,
   "metadata": {},
   "outputs": [
    {
     "data": {
      "text/plain": [
       "{'overall': 1.0,\n",
       " 'verified': True,\n",
       " 'reviewTime': '02 19, 2015',\n",
       " 'reviewerID': 'A1V6B6TNIC10QE',\n",
       " 'asin': '0143026860',\n",
       " 'reviewerName': 'theodore j bigham',\n",
       " 'reviewText': 'great',\n",
       " 'summary': 'One Star',\n",
       " 'unixReviewTime': 1424304000}"
      ]
     },
     "execution_count": 2,
     "metadata": {},
     "output_type": "execute_result"
    }
   ],
   "source": [
    "#load json data\n",
    "\n",
    "file = open(\"All_Beauty.json\", 'r', encoding='utf-8')\n",
    "all_reviews = []\n",
    "count = 0\n",
    "for line in file.readlines():\n",
    "    if count < 10000:\n",
    "        dic = json.loads(line)\n",
    "        all_reviews.append(dic)\n",
    "        count += 1\n",
    "        \n",
    "all_reviews[0]"
   ]
  },
  {
   "cell_type": "code",
   "execution_count": 3,
   "metadata": {},
   "outputs": [],
   "source": [
    "#parse label(overall) and corpus(reviewText)\n",
    "corpus = []\n",
    "labels = []\n",
    "\n",
    "#transform labels: 1,2 --> 1 and 3 --> 2 and 4,5 --> 3\n",
    "for idx in range(len(all_reviews)):\n",
    "    if 'reviewText' in all_reviews[idx] and 'overall' in all_reviews[idx]:\n",
    "        corpus.append(all_reviews[idx]['reviewText'])\n",
    "        if all_reviews[idx]['overall'] == 1 or all_reviews[idx]['overall'] == 2:\n",
    "            labels.append(1)\n",
    "        elif all_reviews[idx]['overall'] == 3:\n",
    "            labels.append(2)\n",
    "        elif all_reviews[idx]['overall'] == 4 or all_reviews[idx]['overall'] == 5:\n",
    "            labels.append(3)\n",
    "\n"
   ]
  },
  {
   "cell_type": "code",
   "execution_count": 4,
   "metadata": {},
   "outputs": [],
   "source": [
    "#preprocessing data\n",
    "#remove email address, punctuations, and change line symbol(\\n)\n",
    "def Punctuation(string): \n",
    "  \n",
    "    # punctuation marks \n",
    "    punctuations = '''!()-[]{};:'\"\\,<>./?@#$%^&*_~'''\n",
    "  \n",
    "    # traverse the given string and if any punctuation \n",
    "    # marks occur replace it with null \n",
    "    for x in string.lower(): \n",
    "        if x in punctuations: \n",
    "            string = string.replace(x, \"\") \n",
    "  \n",
    "    # Print string without punctuation \n",
    "    return string \n",
    "    \n",
    "    \n",
    "for idx in range(len(corpus)):\n",
    "    match = re.findall(r\"\\w\\S*@.*\\b\", corpus[idx])\n",
    "    for mail in match:\n",
    "        corpus[idx] = corpus[idx].replace(mail, '')\n",
    "    corpus[idx] = Punctuation(corpus[idx])\n",
    "    corpus[idx] = corpus[idx].replace('\\n', '')\n",
    "    "
   ]
  },
  {
   "cell_type": "code",
   "execution_count": 5,
   "metadata": {},
   "outputs": [
    {
     "data": {
      "text/plain": [
       "(7996, 1999, 7996, 1999)"
      ]
     },
     "execution_count": 5,
     "metadata": {},
     "output_type": "execute_result"
    }
   ],
   "source": [
    "#split corpus and label into train and test\n",
    "x_train, x_test, y_train, y_test = train_test_split(corpus, labels, test_size=0.2, random_state=2, shuffle=True)\n",
    "\n",
    "len(x_train), len(x_test), len(y_train), len(y_test)"
   ]
  },
  {
   "cell_type": "code",
   "execution_count": 6,
   "metadata": {},
   "outputs": [],
   "source": [
    "#change corpus into vector\n",
    "#you can use tfidf or BoW here\n",
    "from sklearn.feature_extraction.text import TfidfVectorizer\n",
    "vectorizer = TfidfVectorizer() \n",
    "## 用X_train來build 字典，字數還有document 數量\n",
    "vectorizer.fit(x_train)\n",
    "\n",
    "\n",
    "#transform training and testing corpus into vector form\n",
    "x_train = vectorizer.transform(x_train)\n",
    "x_test =  vectorizer.transform(x_test)"
   ]
  },
  {
   "cell_type": "markdown",
   "metadata": {},
   "source": [
    "### 訓練與預測"
   ]
  },
  {
   "cell_type": "code",
   "execution_count": 7,
   "metadata": {},
   "outputs": [
    {
     "data": {
      "text/plain": [
       "AdaBoostClassifier(base_estimator=DecisionTreeClassifier(criterion='entropy',\n",
       "                                                         max_depth=6,\n",
       "                                                         min_samples_leaf=100,\n",
       "                                                         min_samples_split=500),\n",
       "                   learning_rate=0.8, n_estimators=100)"
      ]
     },
     "execution_count": 7,
     "metadata": {},
     "output_type": "execute_result"
    }
   ],
   "source": [
    "#build classification model (decision tree, random forest, or adaboost)\n",
    "#start training\n",
    "\n",
    "#決策樹\n",
    "decision_tree_cls = DecisionTreeClassifier(criterion='entropy', max_depth=6,\n",
    "                                           min_samples_split=500, min_samples_leaf=100)\n",
    "\n",
    "decision_tree_cls.fit(x_train, y_train)\n",
    "\n",
    "# RandomForestClassifier\n",
    "\n",
    "rand_decision_tree_cls = RandomForestClassifier(n_estimators=100, criterion='entropy', max_depth=6,\n",
    "                                           min_samples_split=500, min_samples_leaf=100)\n",
    "\n",
    "rand_decision_tree_cls.fit(x_train, y_train)\n",
    "\n",
    "#adaboost\n",
    "adaboost_cls = AdaBoostClassifier(base_estimator=DecisionTreeClassifier(criterion='entropy', max_depth=6,\n",
    "                                           min_samples_split=500, min_samples_leaf=100), n_estimators=100, learning_rate=0.8)\n",
    "\n",
    "adaboost_cls.fit(x_train, y_train)"
   ]
  },
  {
   "cell_type": "code",
   "execution_count": 8,
   "metadata": {},
   "outputs": [],
   "source": [
    "#start inference\n",
    "y_pred_decision = decision_tree_cls.predict(x_test)\n",
    "y_pred_rand_decision = rand_decision_tree_cls.predict(x_test)\n",
    "y_pred_adaboost = adaboost_cls.predict(x_test)\n"
   ]
  },
  {
   "cell_type": "code",
   "execution_count": 9,
   "metadata": {},
   "outputs": [
    {
     "name": "stdout",
     "output_type": "stream",
     "text": [
      "決策樹 Accuracy: 0.8759379689844923\n",
      "RandomForest Accuracy: 0.8759379689844923\n",
      "adaboost Accuracy: 0.8834417208604303\n"
     ]
    }
   ],
   "source": [
    "#calculate accuracy\n",
    "def cal_acc(y_true, y_pred):\n",
    "    \n",
    "    return sum(y_true == y_pred) / len(y_test)\n",
    "\n",
    "print(f\"決策樹 Accuracy: {cal_acc(y_test, y_pred_decision)}\")\n",
    "print(f\"RandomForest Accuracy: {cal_acc(y_test, y_pred_rand_decision)}\")\n",
    "print(f\"adaboost Accuracy: {cal_acc(y_test, y_pred_adaboost)}\")\n"
   ]
  },
  {
   "cell_type": "code",
   "execution_count": 11,
   "metadata": {},
   "outputs": [
    {
     "name": "stdout",
     "output_type": "stream",
     "text": [
      "              precision    recall  f1-score   support\n",
      "\n",
      "           1       0.61      0.38      0.47       146\n",
      "           2       0.28      0.10      0.14       102\n",
      "           3       0.91      0.97      0.94      1751\n",
      "\n",
      "    accuracy                           0.88      1999\n",
      "   macro avg       0.60      0.48      0.52      1999\n",
      "weighted avg       0.85      0.88      0.86      1999\n",
      "\n",
      "[[  55    3   88]\n",
      " [   8   10   84]\n",
      " [  27   23 1701]]\n"
     ]
    }
   ],
   "source": [
    "#calculate confusion matrix, precision, recall, and f1-score\n",
    "print(classification_report(y_test, y_pred_adaboost))\n",
    "print(confusion_matrix(y_test, y_pred_adaboost))"
   ]
  },
  {
   "cell_type": "markdown",
   "metadata": {},
   "source": [
    "由上述資訊可以發現, 模型在好評的準確度高(precision, recall都高), 而在差評的部分表現較不理想, 在普通評價的部分大部分跟差評搞混,\n",
    "同學可以試著學習到的各種方法來提升模型的表現"
   ]
  },
  {
   "cell_type": "code",
   "execution_count": null,
   "metadata": {},
   "outputs": [],
   "source": []
  }
 ],
 "metadata": {
  "kernelspec": {
   "display_name": "Python 3",
   "language": "python",
   "name": "python3"
  },
  "language_info": {
   "codemirror_mode": {
    "name": "ipython",
    "version": 3
   },
   "file_extension": ".py",
   "mimetype": "text/x-python",
   "name": "python",
   "nbconvert_exporter": "python",
   "pygments_lexer": "ipython3",
   "version": "3.6.9"
  }
 },
 "nbformat": 4,
 "nbformat_minor": 2
}
