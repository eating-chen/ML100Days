{
 "cells": [
  {
   "cell_type": "code",
   "execution_count": 2,
   "metadata": {
    "tags": []
   },
   "outputs": [
    {
     "name": "stdout",
     "output_type": "stream",
     "text": [
      "Python 3.6.9\r\n"
     ]
    }
   ],
   "source": [
    "!python3 --version"
   ]
  },
  {
   "cell_type": "code",
   "execution_count": 3,
   "metadata": {
    "tags": []
   },
   "outputs": [],
   "source": [
    "!pip3 install -q -U pip\n",
    "!pip3 install -q numpy\n",
    "!pip3 install -q pandas\n",
    "!pip3 install -q ckiptagger\n",
    "!pip3 install -q tqdm\n",
    "!pip3 install -q tensorflow==1.14.0\n",
    "!pip3 install -q ipywidgets"
   ]
  },
  {
   "cell_type": "code",
   "execution_count": 11,
   "metadata": {},
   "outputs": [],
   "source": [
    "import pandas as pd\n",
    "import numpy as np\n",
    "\n",
    "from ckiptagger import WS, POS, data_utils\n",
    "from tqdm.notebook import tqdm"
   ]
  },
  {
   "cell_type": "code",
   "execution_count": 12,
   "metadata": {},
   "outputs": [],
   "source": [
    "df_train = pd.read_csv('news_clustering_train.tsv', sep='\\t')\n",
    "df_test = pd.read_csv('news_clustering_test.tsv', sep='\\t')"
   ]
  },
  {
   "cell_type": "code",
   "execution_count": 13,
   "metadata": {},
   "outputs": [
    {
     "data": {
      "text/html": [
       "<div>\n",
       "<style scoped>\n",
       "    .dataframe tbody tr th:only-of-type {\n",
       "        vertical-align: middle;\n",
       "    }\n",
       "\n",
       "    .dataframe tbody tr th {\n",
       "        vertical-align: top;\n",
       "    }\n",
       "\n",
       "    .dataframe thead th {\n",
       "        text-align: right;\n",
       "    }\n",
       "</style>\n",
       "<table border=\"1\" class=\"dataframe\">\n",
       "  <thead>\n",
       "    <tr style=\"text-align: right;\">\n",
       "      <th></th>\n",
       "      <th>index</th>\n",
       "      <th>class</th>\n",
       "      <th>title</th>\n",
       "    </tr>\n",
       "  </thead>\n",
       "  <tbody>\n",
       "    <tr>\n",
       "      <th>0</th>\n",
       "      <td>0</td>\n",
       "      <td>體育</td>\n",
       "      <td>亞洲杯奪冠賠率：日本、伊朗領銜 中國竟與泰國並列</td>\n",
       "    </tr>\n",
       "    <tr>\n",
       "      <th>1</th>\n",
       "      <td>1</td>\n",
       "      <td>體育</td>\n",
       "      <td>9輪4球本土射手僅次武磊 黃紫昌要搶最強U23頭銜</td>\n",
       "    </tr>\n",
       "    <tr>\n",
       "      <th>2</th>\n",
       "      <td>2</td>\n",
       "      <td>體育</td>\n",
       "      <td>如果今年勇士奪冠，下賽季詹姆斯何去何從？</td>\n",
       "    </tr>\n",
       "    <tr>\n",
       "      <th>3</th>\n",
       "      <td>3</td>\n",
       "      <td>體育</td>\n",
       "      <td>超級替補！科斯塔本賽季替補出場貢獻7次助攻</td>\n",
       "    </tr>\n",
       "    <tr>\n",
       "      <th>4</th>\n",
       "      <td>4</td>\n",
       "      <td>體育</td>\n",
       "      <td>騎士6天里發生了啥？從首輪搶七到次輪3-0猛龍</td>\n",
       "    </tr>\n",
       "    <tr>\n",
       "      <th>...</th>\n",
       "      <td>...</td>\n",
       "      <td>...</td>\n",
       "      <td>...</td>\n",
       "    </tr>\n",
       "    <tr>\n",
       "      <th>1795</th>\n",
       "      <td>1795</td>\n",
       "      <td>遊戲</td>\n",
       "      <td>LOL：麻辣香鍋韓服Rank不合成打野刀？電刀巨魔新套路連勝中</td>\n",
       "    </tr>\n",
       "    <tr>\n",
       "      <th>1796</th>\n",
       "      <td>1796</td>\n",
       "      <td>遊戲</td>\n",
       "      <td>穩住，我們能贏！因為我們擁有這種強大的力量</td>\n",
       "    </tr>\n",
       "    <tr>\n",
       "      <th>1797</th>\n",
       "      <td>1797</td>\n",
       "      <td>遊戲</td>\n",
       "      <td>騰訊是怎樣毀掉《鬥戰神》這款可能成神的作品的？</td>\n",
       "    </tr>\n",
       "    <tr>\n",
       "      <th>1798</th>\n",
       "      <td>1798</td>\n",
       "      <td>遊戲</td>\n",
       "      <td>LOL你不知道的黑科技打法！</td>\n",
       "    </tr>\n",
       "    <tr>\n",
       "      <th>1799</th>\n",
       "      <td>1799</td>\n",
       "      <td>遊戲</td>\n",
       "      <td>遊戲拳皇各代的劇情都在講些什麼？</td>\n",
       "    </tr>\n",
       "  </tbody>\n",
       "</table>\n",
       "<p>1800 rows × 3 columns</p>\n",
       "</div>"
      ],
      "text/plain": [
       "      index class                            title\n",
       "0         0    體育         亞洲杯奪冠賠率：日本、伊朗領銜 中國竟與泰國並列\n",
       "1         1    體育        9輪4球本土射手僅次武磊 黃紫昌要搶最強U23頭銜\n",
       "2         2    體育             如果今年勇士奪冠，下賽季詹姆斯何去何從？\n",
       "3         3    體育            超級替補！科斯塔本賽季替補出場貢獻7次助攻\n",
       "4         4    體育          騎士6天里發生了啥？從首輪搶七到次輪3-0猛龍\n",
       "...     ...   ...                              ...\n",
       "1795   1795    遊戲  LOL：麻辣香鍋韓服Rank不合成打野刀？電刀巨魔新套路連勝中\n",
       "1796   1796    遊戲            穩住，我們能贏！因為我們擁有這種強大的力量\n",
       "1797   1797    遊戲          騰訊是怎樣毀掉《鬥戰神》這款可能成神的作品的？\n",
       "1798   1798    遊戲                   LOL你不知道的黑科技打法！\n",
       "1799   1799    遊戲                 遊戲拳皇各代的劇情都在講些什麼？\n",
       "\n",
       "[1800 rows x 3 columns]"
      ]
     },
     "execution_count": 13,
     "metadata": {},
     "output_type": "execute_result"
    }
   ],
   "source": [
    "df_train"
   ]
  },
  {
   "cell_type": "code",
   "execution_count": 14,
   "metadata": {},
   "outputs": [],
   "source": [
    "train_titles = {row['index']: row['title'] for _, row in df_train.iterrows()}\n",
    "train_classes = {row['index']: row['class'] for _, row in df_train.iterrows()}\n",
    "\n",
    "test_titles = {row['index']: row['title'] for _, row in df_test.iterrows()}\n",
    "test_classes = {row['index']: row['class'] for _, row in df_test.iterrows()}"
   ]
  },
  {
   "cell_type": "code",
   "execution_count": 15,
   "metadata": {},
   "outputs": [],
   "source": [
    "all_news_class = ['體育', '財經', '科技', '旅遊', '農業', '遊戲']"
   ]
  },
  {
   "cell_type": "markdown",
   "metadata": {},
   "source": [
    "# 斷詞 + POS"
   ]
  },
  {
   "cell_type": "code",
   "execution_count": 28,
   "metadata": {
    "tags": []
   },
   "outputs": [
    {
     "name": "stdout",
     "output_type": "stream",
     "text": [
      "WARNING: Entity <bound method LSTMCell.call of <tensorflow.python.ops.rnn_cell_impl.LSTMCell object at 0x7f7d07963c88>> could not be transformed and will be executed as-is. Please report this to the AutgoGraph team. When filing the bug, set the verbosity to 10 (on Linux, `export AUTOGRAPH_VERBOSITY=10`) and attach the full output. Cause: converting <bound method LSTMCell.call of <tensorflow.python.ops.rnn_cell_impl.LSTMCell object at 0x7f7d07963c88>>: AttributeError: module 'gast' has no attribute 'Num'\n",
      "WARNING: Entity <bound method LSTMCell.call of <tensorflow.python.ops.rnn_cell_impl.LSTMCell object at 0x7f7d9ebe18d0>> could not be transformed and will be executed as-is. Please report this to the AutgoGraph team. When filing the bug, set the verbosity to 10 (on Linux, `export AUTOGRAPH_VERBOSITY=10`) and attach the full output. Cause: converting <bound method LSTMCell.call of <tensorflow.python.ops.rnn_cell_impl.LSTMCell object at 0x7f7d9ebe18d0>>: AttributeError: module 'gast' has no attribute 'Num'\n",
      "WARNING: Entity <bound method LSTMCell.call of <tensorflow.python.ops.rnn_cell_impl.LSTMCell object at 0x7f7d9ebe1c50>> could not be transformed and will be executed as-is. Please report this to the AutgoGraph team. When filing the bug, set the verbosity to 10 (on Linux, `export AUTOGRAPH_VERBOSITY=10`) and attach the full output. Cause: converting <bound method LSTMCell.call of <tensorflow.python.ops.rnn_cell_impl.LSTMCell object at 0x7f7d9ebe1c50>>: AttributeError: module 'gast' has no attribute 'Num'\n",
      "WARNING: Entity <bound method LSTMCell.call of <tensorflow.python.ops.rnn_cell_impl.LSTMCell object at 0x7f7d9feb2828>> could not be transformed and will be executed as-is. Please report this to the AutgoGraph team. When filing the bug, set the verbosity to 10 (on Linux, `export AUTOGRAPH_VERBOSITY=10`) and attach the full output. Cause: converting <bound method LSTMCell.call of <tensorflow.python.ops.rnn_cell_impl.LSTMCell object at 0x7f7d9feb2828>>: AttributeError: module 'gast' has no attribute 'Num'\n",
      "WARNING: Entity <bound method Dense.call of <tensorflow.python.layers.core.Dense object at 0x7f7d07d03cc0>> could not be transformed and will be executed as-is. Please report this to the AutgoGraph team. When filing the bug, set the verbosity to 10 (on Linux, `export AUTOGRAPH_VERBOSITY=10`) and attach the full output. Cause: converting <bound method Dense.call of <tensorflow.python.layers.core.Dense object at 0x7f7d07d03cc0>>: AssertionError: Bad argument number for Name: 3, expecting 4\n"
     ]
    },
    {
     "name": "stderr",
     "output_type": "stream",
     "text": [
      "Exception ignored in: <bound method WS.__del__ of <ckiptagger.api.WS object at 0x7f7d9f97e2b0>>\n",
      "Traceback (most recent call last):\n",
      "  File \"/home/eating/.local/lib/python3.6/site-packages/ckiptagger/api.py\", line 65, in __del__\n",
      "    self.model.sess.close()\n",
      "AttributeError: 'WS' object has no attribute 'model'\n"
     ]
    },
    {
     "name": "stdout",
     "output_type": "stream",
     "text": [
      "WARNING: Entity <bound method LSTMCell.call of <tensorflow.python.ops.rnn_cell_impl.LSTMCell object at 0x7f7d9c4b16d8>> could not be transformed and will be executed as-is. Please report this to the AutgoGraph team. When filing the bug, set the verbosity to 10 (on Linux, `export AUTOGRAPH_VERBOSITY=10`) and attach the full output. Cause: converting <bound method LSTMCell.call of <tensorflow.python.ops.rnn_cell_impl.LSTMCell object at 0x7f7d9c4b16d8>>: AttributeError: module 'gast' has no attribute 'Num'\n",
      "WARNING: Entity <bound method LSTMCell.call of <tensorflow.python.ops.rnn_cell_impl.LSTMCell object at 0x7f7ce41a3278>> could not be transformed and will be executed as-is. Please report this to the AutgoGraph team. When filing the bug, set the verbosity to 10 (on Linux, `export AUTOGRAPH_VERBOSITY=10`) and attach the full output. Cause: converting <bound method LSTMCell.call of <tensorflow.python.ops.rnn_cell_impl.LSTMCell object at 0x7f7ce41a3278>>: AttributeError: module 'gast' has no attribute 'Num'\n",
      "WARNING: Entity <bound method LSTMCell.call of <tensorflow.python.ops.rnn_cell_impl.LSTMCell object at 0x7f7ce41a3f98>> could not be transformed and will be executed as-is. Please report this to the AutgoGraph team. When filing the bug, set the verbosity to 10 (on Linux, `export AUTOGRAPH_VERBOSITY=10`) and attach the full output. Cause: converting <bound method LSTMCell.call of <tensorflow.python.ops.rnn_cell_impl.LSTMCell object at 0x7f7ce41a3f98>>: AttributeError: module 'gast' has no attribute 'Num'\n",
      "WARNING: Entity <bound method LSTMCell.call of <tensorflow.python.ops.rnn_cell_impl.LSTMCell object at 0x7f7d078a0c50>> could not be transformed and will be executed as-is. Please report this to the AutgoGraph team. When filing the bug, set the verbosity to 10 (on Linux, `export AUTOGRAPH_VERBOSITY=10`) and attach the full output. Cause: converting <bound method LSTMCell.call of <tensorflow.python.ops.rnn_cell_impl.LSTMCell object at 0x7f7d078a0c50>>: AttributeError: module 'gast' has no attribute 'Num'\n",
      "WARNING: Entity <bound method Dense.call of <tensorflow.python.layers.core.Dense object at 0x7f7d0712db00>> could not be transformed and will be executed as-is. Please report this to the AutgoGraph team. When filing the bug, set the verbosity to 10 (on Linux, `export AUTOGRAPH_VERBOSITY=10`) and attach the full output. Cause: converting <bound method Dense.call of <tensorflow.python.layers.core.Dense object at 0x7f7d0712db00>>: AssertionError: Bad argument number for Name: 3, expecting 4\n"
     ]
    }
   ],
   "source": [
    "# data_utils.download_data_gdown(\"./\")\n",
    "ws = WS('./data/D07data/')\n",
    "pos = POS('./data/D07data/')"
   ]
  },
  {
   "cell_type": "code",
   "execution_count": 37,
   "metadata": {
    "tags": []
   },
   "outputs": [
    {
     "data": {
      "application/vnd.jupyter.widget-view+json": {
       "model_id": "2400bc1770ec456bbcecd99eb40cbf70",
       "version_major": 2,
       "version_minor": 0
      },
      "text/plain": [
       "HBox(children=(HTML(value=''), FloatProgress(value=0.0, max=1800.0), HTML(value='')))"
      ]
     },
     "metadata": {},
     "output_type": "display_data"
    },
    {
     "name": "stdout",
     "output_type": "stream",
     "text": [
      "\n"
     ]
    }
   ],
   "source": [
    "train_title_cuts = {}\n",
    "for index, title in tqdm(train_titles.items()):\n",
    "    \n",
    "    word_s = ws([title], sentence_segmentation = True, segment_delimiter_set={'?', '？', '!', '！', '。', ',','，', ';', ':', '、'}) \n",
    "    word_p = pos(word_s)\n",
    "    \n",
    "    train_title_cuts[index] = list(zip(word_s[0], word_p[0]))"
   ]
  },
  {
   "cell_type": "code",
   "execution_count": 38,
   "metadata": {
    "tags": []
   },
   "outputs": [
    {
     "data": {
      "application/vnd.jupyter.widget-view+json": {
       "model_id": "90368ecf70404d24958570f7f9db4c92",
       "version_major": 2,
       "version_minor": 0
      },
      "text/plain": [
       "HBox(children=(HTML(value=''), FloatProgress(value=0.0, max=600.0), HTML(value='')))"
      ]
     },
     "metadata": {},
     "output_type": "display_data"
    },
    {
     "name": "stdout",
     "output_type": "stream",
     "text": [
      "\n"
     ]
    }
   ],
   "source": [
    "test_title_cuts = {}\n",
    "for index, title in tqdm(test_titles.items()):\n",
    "    # YOUR CODE HERE\n",
    "    word_s = ws([title], sentence_segmentation = True, segment_delimiter_set = {'?', '？', '!', '！', '。', ',','，', ';', ':', '、'}) \n",
    "    word_p = pos(word_s)\n",
    "    \n",
    "    test_title_cuts[index] = list(zip(word_s[0], word_p[0]))"
   ]
  },
  {
   "cell_type": "code",
   "execution_count": 44,
   "metadata": {},
   "outputs": [
    {
     "data": {
      "text/plain": [
       "('國腳', 'Na')"
      ]
     },
     "execution_count": 44,
     "metadata": {},
     "output_type": "execute_result"
    }
   ],
   "source": [
    "train_title_cuts[120][0]"
   ]
  },
  {
   "cell_type": "markdown",
   "metadata": {},
   "source": [
    "# Bag of Words (BOW)"
   ]
  },
  {
   "cell_type": "code",
   "execution_count": 51,
   "metadata": {},
   "outputs": [],
   "source": [
    "word2index = {}\n",
    "index2word = {}\n",
    "# 產生字與index對應的關係\n",
    "# YOUR CODE HERE\n",
    "count = 0\n",
    "for title_word in train_title_cuts:\n",
    "    for word in train_title_cuts[title_word]:\n",
    "        if word[0] not in word2index:\n",
    "            word2index[word[0]] = count\n",
    "            index2word[count] = word[0]\n",
    "            count += 1\n",
    "# END YOUR CODE"
   ]
  },
  {
   "cell_type": "code",
   "execution_count": 58,
   "metadata": {},
   "outputs": [
    {
     "data": {
      "text/plain": [
       "6663"
      ]
     },
     "execution_count": 58,
     "metadata": {},
     "output_type": "execute_result"
    }
   ],
   "source": [
    "word2index['許']\n",
    "len(word2index)"
   ]
  },
  {
   "cell_type": "code",
   "execution_count": 59,
   "metadata": {},
   "outputs": [
    {
     "data": {
      "text/plain": [
       "6663"
      ]
     },
     "execution_count": 59,
     "metadata": {},
     "output_type": "execute_result"
    }
   ],
   "source": [
    "index2word[1520]\n",
    "len(index2word)"
   ]
  },
  {
   "cell_type": "code",
   "execution_count": 60,
   "metadata": {},
   "outputs": [],
   "source": [
    "def get_bow_vector(pairs, word2index):\n",
    "    # YOUR CODE HERE\n",
    "    word_len = len(word2index)\n",
    "    vector = np.zeros(word_len)\n",
    "    for word in pairs:\n",
    "        vector[word2index[word[0]]] += 1\n",
    "    # END YOUR CODE\n",
    "    return vector"
   ]
  },
  {
   "cell_type": "code",
   "execution_count": 61,
   "metadata": {},
   "outputs": [
    {
     "data": {
      "text/plain": [
       "array([0., 0., 1., ..., 0., 0., 0.])"
      ]
     },
     "execution_count": 61,
     "metadata": {},
     "output_type": "execute_result"
    }
   ],
   "source": [
    "get_bow_vector(train_title_cuts[120], word2index)"
   ]
  },
  {
   "cell_type": "markdown",
   "metadata": {},
   "source": [
    "# 排除較無意義的詞性"
   ]
  },
  {
   "cell_type": "code",
   "execution_count": 62,
   "metadata": {
    "tags": []
   },
   "outputs": [
    {
     "name": "stdout",
     "output_type": "stream",
     "text": [
      "Nb : ['芒格', '猛', '武磊', '清華', '瓜迪奧拉', '埃姆雷', '清華大學生', '馬卡報', '費基爾', '吳敬璉', '張大仙', '惠若琪', '萊科寧', '魅族', '凱西', '雷軍', '石川佳純', '老馬', '詹姆斯', '東皇', '楊柳夏', '查理芒格', '宇通', '奧尼爾', '郭懿', '雷霆隊', '馬里奧', '萊萬', '群里', '科爾', '波爾', '淘寶', '李盈瑩', '中金', '瓦基弗', '賈躍亭', '西蒙斯', '維亞利', '美年達', '雪迪龍', '埃米爾岡', '泰拳王西', '昌圖', '小明', '神武', '京新', '董明珠', '三星', '巔峰賽', '羅現', 'S10', '韋德', '阿里巴巴', '華創', '泰倫', '朱婷', '中超', '迪士尼', '布茲德里克', '寶二', '阿木', '丘誠', '郎平', '人民日報', '安德森', '鍾馗', '拉卡拉', '馬龍', '郭煒煒', '勒布朗', '建成', '郭躍', '龐氏', '加威廉', '西游', '王者榮', '劉熾平', '美宇', '梅西', '嬴政', '姆巴佩', '巴爾韋德', '特里', '蘇群', '劉歡', '億航', '騎士隊', '科斯塔', '東決', '小白', '哈希', '詹黑皮爾斯', '林美景', '海因克斯 萊萬多夫斯基', '李大霄', '韓寒', '李白', '易', '新游', '力哥']\n",
      "=======================\n",
      "Na : ['小麥', '空投里', '空氣', '利好', '敵人', '隊員', '狂魔', '中藥', '王朝', '裙子', '雕像', '離子', '費用', '白鰱', '溶洞', '時節', '衣服', '銀牌', '化肥會', '杜鵑花', '麥塊', '米', '城市', '手機', '小額', '網商貸', '小牛', '頻道', '墒情', '軟件', '珍品', '心骨', '乒乓球', '開關', '紅薯苗', '運氣', '發酵劑', '嘲諷度', '抉擇', '皇家', '概要', '探險隊', '美景', '國人', '主義', '良心', '魔王', '分文', '人物', '品種', '中單', '程度', '渣男', '低保', '雞頁', '幹部', '暴力', '風情', '女足', '必要', '商務車', '消息', '曙光', '不鏽鋼', '野鴨', '卡', '格局', '自建房', '信號', '獼猴桃', '紅蜘蛛', '日漫', '大豆', '正面', 'pos機流量卡', '保質', '年薪', '俗語', '舉措', '浙體', '稅利', '企業', '道理', '心意', '帷幕', '象', '盆景', '流言', '建築', '水', '臍橙', '雨花', '日', '保障線', '青春', '攻略', '門道', '圖片', '團戰', '進展']\n",
      "=======================\n",
      "COLONCATEGORY : [':', '：']\n",
      "=======================\n",
      "Nc : ['港', '濟南', '上川島', '背後', '北川', '杭州', '永城', '長白山', '聖堂山', '域', '房頂', '日照市', '自治縣', '長汀連城', '畢節', '安居區', '馬略卡島', '吉爾吉斯斯坦', '洗車店', '山海', '絕地', '川藏', '楚河', '村', '城市', '巷口', '便利店', '湘西', '孟津', '貴州省', '游景點', '山東', '河岸', '雜貨鋪', '希臘', '湖州', '平遙', '監獄里', '青島鄉', '西里', '盧氏縣', '農場', '麵食攤', '免稅店', '青島', '貴州', '溫室', '洋溪鎮', '俄羅斯', '京東', '滑縣', '賽場', '果嶺', '拉薩', '農家', '亞洲', '甘肅', '西藏', '賽區', '科內利亞諾', '黃鶴樓', '農村', '華鎣', '宿城', '內內', '中行', '嵐山', '舟山', '分區', '莊家', '天', '火焰山', '尼泊爾', '田野', '銀川', '盱眙', '廣交會', '歐', '世界', '大鵬葵壩', '東北', '哈尼梯田', '亞索', '央行', '重慶', '實體店', '酒店', '冰城', '深海', '巴中市', '以色列', '湖南省', '鹽城', '香格里拉', '軍艦島', '農科院', '滕州', '區', '武林', '海南']\n",
      "=======================\n",
      "PAUSECATEGORY : ['、']\n",
      "=======================\n",
      "VB : ['拍照', '代打', '鋪平', '再見', '解密', '退改', '助威', '執教', '上架', '加持', '一網打盡', '解圍', '罰款', '定位', '分組', '計算出來', '充飢', '加工', '相比', '融資', '護航', '收回來', '罵屌絲', '入賬', '充氣', '加冕', '提前', '開戰', '騙錢', '分紅', '領銜', '退貨', '應對', '站台', '通話', '加起來', '解體', '鍍金', '導航', '復仇', '抓來', '扣分', '效力', '加油', '退款', '解惑', '分段']\n",
      "=======================\n",
      "WHITESPACE : [' ']\n",
      "=======================\n",
      "D : ['越', '只有', '屢屢', '全面', '互', '盡情', '很少', '哈哈', '竟', '應', '多多', '硬生生', '大力', '究竟', '到處', '不再', '真', '該', '正在', '必須', '總算', '原來', '怎麼', '互相', '差點兒', '即將', '本來', '是否', '難道', '總會', '經常', '那麼', '再度', '已然', '天南地北', '居然', '及時', '其實', '所', '還可以', '能', '並', '盡快', '攜手', '天天', '當下', '該不該', '結伴', '可以', '時刻', '甚至', '相', '隆', '也', '少', '逐漸', '仍', '剛剛', '從中', '已經', '冒死', '不', '大規模', '千萬', '搞不好', '始', '來', '復', '好像', '屢次', '接著', '略', '依舊', '差點', '可能', '一一', '大概', '卻', '至今', '別', '更', '總是', '將', '亂', '新', '一起', '專職', '紛紛', '玩絕', '應當', '預先', '永', '難以', '隨', '無可', '不料', '一路', '真的', '首次', '又']\n",
      "=======================\n",
      "P : ['直至', '至', '如', '等', '比', '待', '自從', '趁', '給', '在', '臨', '跟', '往', '為', '當', '將', '離', '到', '距離', '除', '隨', '慘遭', '遭', '從', '以', '靠', '和', '除了', '把', '關於', '繼', '就', '與', '像', '為了', '隨了', '根據', '按', '因', '向', '被', '趁著', '自', '比如', '用', '憑', '對', '幫', '於', '針對', '受']\n",
      "=======================\n",
      "VG : ['當上', '如', '賣成', '美成', '充當', '稱為', '居', '投票成', '竟是', '變成', '為', '屬於', '叫做', '當', '彷彿', '成', '算', '猶如', '譽為', '排', '名叫', '稱', '任', '作為', '叫', '酷似', '類似', '升任', '集成', '泛濫成', '等於', '似', '化', '排名', '疑似', '做成', '建成', '屈居', '變', '姓', '稱得上', '算是', '像', '稱作', '合成', '誤認成', '評選', '並列', '改造成', '封號', '當作', '理解為', '形成', '堪稱', '非', '做', '排行', '戰成', '應聘', '當成', '成為']\n",
      "=======================\n",
      "Neu : ['十億', '十三', '72', '21', '0.2', '56', '2', '20', '010', '8萬', '1300', '600億', '1', '百萬', '一百', '10萬', '二十', '10010', '兩', '第1', '十幾', '22', '200', '120', '2.93億', '37', '千千萬', '二〇三', '5', '46萬', '一千', '150', '16', '第36', '24億', '4萬多', '54', '7', '2萬', '第114', '9-0', '175', '1.23億', '1200億', '48', '25', '7000', '十五萬', '15萬', '萬', '1268', '數千萬', '0-1', '17億', '1688', '2018.5.6', '五', '32', '100萬', '億', '318', '76', '1099', '20萬', '千萬', '1-2', '1318', '2.5', '8', '98', '100多', '42', '百億', '135', '9-1', '1000', '幾', '5萬', '91', '十多萬', '711', '2599', '23萬一', '11億', '12', '100', '24', '13888', '(00926)', '64', '5000', '甲', '三千億', '1億', '（四）', '00', '2018千', '三', ' 360', '500']\n",
      "=======================\n",
      "Nf : ['斤', '步', '胎', '條', '則', '次', '只', '招', '部', '毛', '號', '元', '家', '米', '所', '群', '路', '頭', '節', '隻', '樣', '株', '句', '名', '歲', '袋', '道', '頓', '款', '畝', '塊', '隊', '件', '度', '門', '片', '輪', '支', '秒', '套', '鍋', '色', '番', '港元', 'K', '掛', '頁', '口', '天', '檔', '種', '項', '公里', '槍', '行', '英吋', '噸', '週', '期', '位', '類', '台', '張', '晚', '處', '盤', '日', '遍', '篇', '對', '層', '些', '局', '戶', '周', '串', '筆', '分', '屆', '個', '票', '座', '關', '批', '級', '本', '刻', '分鐘', '方', '美元', '把', '年', '棵', '點', '班', '場', '股', '碗', '輛', '回']\n",
      "=======================\n",
      "VJ : ['發生', '含有', '懷念', '限', '佔', '處於', '享', '歸', '為', '養有', '煥發', '心疼', '降至', '順應', '要價', '領先', '獲得', '忘懷', '超過', '看懂', '翻倍', '緊缺', '領跑', '欣賞', '分享', '看不過去', '僅次', '出', '吃上', '富', '賽', '自有', '持有', '領略', '惹不起', '納入', '錯失', '羨慕', '平', '獲', '發揮', '遺傳', '仇', '出於', '靠', '恪守', '震撼到', '認識', '嫌棄', '失去', '無', '懼怕', '痛失', '強過', '惜', '不如', '維持', '關注', '過完', '缺', '負於', '輸掉', '歡迎', '喪失', '缺少', '得', '擁有', '逾', '超', '符合', '忽略', '沒有', '不理', '適應', '蘊藏', '僅次於', '曝限', '毫無', '遭遇', '虧損', '晉級', '偏愛', '珍惜', '衝', '入選', '共有', '達', '爆發', '不到', '優於', '替代', '負', '不敵', '減持', '受', '獨佔', '近', '身臨', '沈迷', '新增']\n",
      "=======================\n",
      "VD : ['貸款', '傳', '支付', '收費', '欠', '補繳', '送', '寄予', '清繳', '貸', '坑', '給', '拒賠', '郵給', '分', '搶', '予', '禁售', '贏', '供應', '補貼', '發給', '給予', '輸', '發', '售', '配', '提供', '借貸', '交付', '付', '轉讓', '還', '輸給', '速遞', '借', '賣', '白送', '發放']\n",
      "=======================\n",
      "Dfa : ['還要', '有點', '非常', '多', '太', '遠遠', '更', '過於', '同樣', '極', '遠', '超', '越來越', '過', '十分', '最', '頗', '有些', '很', '比較', '好', '更為', '還', '較', '不大', '如此', '這麼']\n",
      "=======================\n",
      "VH : ['出世', '負債', '見底', '再現', '高開', '著急', '爆紅', '猛', '完', '嚴重', '高速', '多多', '正常', '隱蔽', '心酸', '發黃', '轟動', '開花', '變幻莫測', '貧困', '跌', '富奔', '足', '傻', '完好', '畏難', '敗', '安全', '中毒', '少', '難得', '成功', '長', '開黑', '面世', '虐汪', '截止', '多姿', '閃現', '強', '熱別', '辛勞', '遠', '新', '好吃', '平板', '無盡', '畢業', '虛', '濃', '極好', '險勝', '變', '天生', '退市', '不足', '直接', '疲軟', '神奇', '後悔莫及', '曝光', '佳', '狂', '發熱', '崛起', '忙', '相關', '飽', '好好', '迷路', '差', '下跌', '卡', '爆表', '無效', '火', '當之無愧', '怒', '豐收', '凝重', '專業', '滿貫', '積極', '純', '腦溢血', '輕鬆', '知名', '發愁', '逼格', '藥用', '不善', '撲朔迷離', '廉價', '上市', '酷', '巧妙', '分布', '濃郁', '平安好', '一樣']\n",
      "=======================\n",
      "Cbb : ['可是', '只有', '不管', '縱使', '另外', '而是', '否則', '並且', '只是', '跟著', '反而', '即使', '但', '要是', '假如', '若', '就算', '不過', '而', '致', '既然', '並', '因為', '如果', '連', '因', '但是', '還不如', '既', '不僅', '不然', '雖然', '只要', '不如']\n",
      "=======================\n",
      "Nd : ['明年', '6旬', '週二', '四月', '五月', '38+7', '春', '2020年', '週一', '秋季', '夏', '初夏', '今年', '一大早', '大中', '現代', '何時', '寒武紀', '後來', '花季', '1日', '31號', '5日', '2018年', '不久', '夜', '隔年', '12日', '後', '臨時', '06日', '立夏', '7號', '旅遊節', '狗年', '相親節', '採摘節', '早晨', '月季', '昔日', '秋', '明晚', '下旬', '同時', '當年', '當前', '隆慶', '8月', '週末', '長期', '夏天', '季', '幾月份', '5號', '如今', '昨天', '當時', '夏日', '1點', '目前', '半夜', '中旬', '永久', '10點', '後期', '4日', '中期', '8日', '小時候', '夏窗', '過去', '文化節', '雍正', '15日', '五月份', '最近', '近日', '2005年', '5月', '一下', '春季', '明', '多久', '晚清', '3月', '春天', '以後', '今日', '夏季', '1990年', '13點', '荒古', '六', '05月', '米節', '今天', '2035年', '晚間', '19年', '90年']\n",
      "=======================\n",
      "VA : ['正名', '產仔', '刷單', '嬉戲', '徜徉', '生財', '飆車', '翻身', '跳', '跌', '上雙', '育秧', '開車', '放光', '求生', '轉賬', '保量', '拼房', '出擊', '相約', '喧囂', '代班', '變盤', '變通', '上場', '砸盤', '收錢', '回來', '哭', '攻堅', '度假', '懷孕', '建功', '打卡', '流動', '實習', '踏步', '開王', '游攻', '怒吼', '表態', '成交', '幹什麼', '下馬', '打麻將', '出單', '走', '進去', '卡', '申遺', '做生意', '相克', '溢出', '露營', '釣魚', '掉幀', '開團', '算卦', '搞笑', '看過來', '出台', '作證', '奔', '格鬥', '種菜', '目不暇接', '入院', '摘帽', '自殺', '打顫', '扣賬', '違規', '追債', '巡禮', '盤旋', '撒沙', '避暑', '探秘', '帶隊', '逆轉', '鬥米', '啓動', '報名', '追肥', '逆襲', '打板', '代言', '競技', '徵信', '暴走', '問世', '壓槍', '握手', '鬥智', '登高', '倒伏', '違法', '坐穩', '喜極而泣', '領頭']\n",
      "=======================\n",
      "COMMACATEGORY : ['，', ',']\n",
      "=======================\n",
      "Nes : ['下', '頭', '近', '前', '本', '另', '各', '何', '上', '每', '貴', '後', '同', '首', '某', '該']\n",
      "=======================\n",
      "QUESTIONCATEGORY : ['？']\n",
      "=======================\n",
      "VC : ['封禁', '誤觸', '面試', '拿下', '準備', '隔扣', '改造', '完', '覽', '買賣', '匯總', '扶', '捕捉', '接受', '採訪', '花費', '變更', '種養', '拍到', '激勵', '取捨', '構建', '防', '指導', '托運', '領導', '電', '操作', '拉開', '害', '開掛', '製造', '吹', '套養', '做好', '訓練', '利用', '克制', '踢到', '購', '定義', '飲', '駕馭', '投放', '出', '獲取', '阻', '分銷', '揭秘', '練習', '探', '承受', '混合', '振興', '選擇', '錄制', '扶持', '逗', '審查', '衝刺', '造出', '撒', '帶動', '喜出', '對付', '養', '懵逼', '超爭', '膜拜', '打造', '爆發出', '體驗', '改種', '掀', '提高', '離開', '扣除', '秒選', '接觸', '斬落', '實行', '攔', '提高到', '打理', '辦', '挖', '回購', '攪亂', '提出', '學到', '收', '結出', '整入', '打死', '區分', '運用', '嘗嘗', '打爆', '接待', '通過']\n",
      "=======================\n",
      "EXCLAMATIONCATEGORY : ['！', '!']\n",
      "=======================\n",
      "Di : ['過', '了', '著', '起來', '個']\n",
      "=======================\n",
      "Nep : ['此', '什麼', '這', '啥', '其', '哪', '其中', '那']\n",
      "=======================\n",
      "Caa : ['或者', '至', '又', '跟', '和', 'VS', '或是', '到', '或', '比', '與', '還是', '暨', '及']\n",
      "=======================\n",
      "VCL : ['出發到', '走進', '走到', '赴', '重返', '走過', '抵達', '穿越', '前往', '登陸', '遠離', '深入', '遊覽', '住', '進', '退出', '在', '進入', '往', '上', '栽進', '到', '留在', '直達', '到達', '玩遍', '用於', '重回', '升至', '蒞臨', '跌至', '入', '度過', '過', '回到', '穿透', '來到', '路過', '前來', '存進', '走下', '橫掃', '走訪', '出', '跌出', '去', '穿過', '暗渡', '盤踞', '回', '回歸']\n",
      "=======================\n",
      "Neqa : ['哪些', '大多', '30%', '0.8%', '全', '個個', '其他', '12%', '多', '9.89%', '那些', '四成', '半', '這麼多', '1%', '15%', '20%', '任何', '部分', '無數', '其它', '所有', '百分之八十', '大量', '一點', '1/4', '6%', '不少', '很多', '這些', '一半', '多少', '有的', '大多數', '滴滴', '有些', '步步', '8%', '67%', '多點', '一處處', '句句', '41.8%', '更多', '10%', '80%', '90%', '一切', '三分之一', '許多', '遍', '100%', '一些']\n",
      "=======================\n",
      "Nh : ['個人', '她', '自己', '私人', '各位', '你們', '自身', '自我', '我們', '大家', '俺們', '本人', '她們', '父子倆', '他們', '小眾', '誰', '它', '它們', '各自', '對方', '雙方', '您', '我', '屌絲', '他', '你', '一方', '別人', '人家']\n",
      "=======================\n",
      "FW : ['Pro', 'max2', 'Uzi', 'CFO', 'QQ', '2', 'N+1', 'King James', 'PVE', 'bad boy', 'ban', 'PK', 'P2P', 'Aloha', 'CP', 'G3', 'T+0', 'mix2', 'G+', 'EOS', 'GPP', '5G', 'SKU', 'LPL', ' 樂', 'DOTA2 ', 'iphone6plus', 'OV', 'lol', 'IG', 'eStarPro vs WF.D', 'Alan', '4H', ' VS ', 'pro7', '9A91', 'CDR', ' 比', 'C', '6G', 'NBA ', 'numb', 'RPG', 'lck', 'DNF', 'X13', 'PGM 0-1 SUP', 'ADC', 'mc', 'Xbox ', 'XQ', 'Nvidia', '~', 'wifi', 'KV', 'QM', 'AIC', 'CF', 'BCH', 'iBoy', 'cba', 'J', ' + ', 'PPP', 'U23', '6 10.5', 'KPL', 'KBM', 'shou', 'Brian Kelly', 'DASH', 'Instagram', 'etc', 'CPI', 'iPhone X', 'ios', 'iPhone X Plus', 'S11', 'LOL', 'i7', '│', 'Aurum ', ' MDL', 'Cotswolds', 'FF ', 'RNG', 'ABCC', '-0', 'AP', ' 秀', 'ST', 'BAT', 'HTC', 'FW', 'WF.D', ' CCR', 'N7', 'note5', 'VR ', 'FOF']\n",
      "=======================\n",
      "SHI : ['是', '像是']\n",
      "=======================\n",
      "VE : ['發佈', '鑒定', '避免', '警惕', '自嘲', '介紹', '示範', '公示', '回答', '見證', '設想', '聊', '看出', '判罰', '提', '精准', '安排', '深思', '准', '公告', '想到', '呼', '聽說', '預計', '以為', '預測', '發誓', '研究', '商量', '問', '提猜', '提到', '申卡', '檢測', '暗示', '聽到', '證', '查找', '調研', '抱怨', '訴說', '見', '判斷', '確認', '講', '告訴', '發現', '想', '識別', '報道', '賭', '說明', '炫耀', '討說', '查看', '判定', '看到', '爆料', '禁止', '感嘆', '形容', '允許', '聽', '算', '探索', '聯想', '稱', '預告', '防止', '想起', '探討', '預定', '廣播', '盛贊', '管', '呼籲', '披露', '認為', '公佈', '限制', '知詢', '慶祝', '考慮', '提醒', '回顧', '講解', '想好', '宣佈', '證明', '看看', '查', '預期', '估值', '預防', '假設', '傳聞', '承諾', '揭曉', '說', '做到']\n",
      "=======================\n",
      "DE : ['得', '的', '地', '之']\n",
      "=======================\n",
      "VHC : ['規模化', '機構化', '現代化', '恢復', '辛苦', '降低', '產生', '公開', '告破', '繁榮', '凍', '愁死', '肥', '煩', '感動', '結束', '豐富', '淡化', '愁壞', '溫暖', '斷', '停', '增加', '加快', '變動', '縮小', '擴張', '穩定', '麻煩', '熱', '開', '震驚', '增強', '暫停', '增長', '國際化', '平衡', '增 ', '滿足', '傷', '陷', '破', '寶智能化', '冷卻', '減少', '還原', '強化', '優化', '壞', '可憐', '普及', '下來', '團結']\n",
      "=======================\n",
      "Ng : ['裡', '之外', '之中', '間', '來', '時', '以上', '之下', '之間', '上', '起', '為止', '內', '底', '左右', '之內', '以下', '般', '以後', '之上', '初', '以外', '下', '以來', '前', '之後', '之前', '外', '後', '中']\n",
      "=======================\n",
      "VK : ['意外', '希望', '指望', '信', '懷疑', '覺得', '理解', '肯定', '回憶', '意味', '介意', '盼', '意想不到', '注意', '所謂', '感謝', '同意', '怕', '不滿', '有利於', '擔心', '需', '懂得', '顯示', '感覺', '知', '遇', '小心', '忘', '恨', '需要', '感受', '願意', '堅持', '討厭', '恐', '放心', '願', '忘記', '曲解', '知道', '依賴', '明白', '遺憾', '奇怪', '感覺到', '確定', '喜歡', '瞭解', '害怕', '期待', '面臨', '抱歉', '不忘', '想見', '流傳', '懂', '欲', '覺']\n",
      "=======================\n",
      "Ncd : ['裡', '中', '間', '底部', '西部', '上面', '東部', '哪裡', '東方', '上', '一帶', '哪下', '哪兒', '內', '前沿', '那裡', '畔', '上方', '以下', '那邊', '對面', '方', '中間', '東西部', '裡面', '旁邊', '旁', '下', '這裡', '當中', '西', '中部', '外', '哪', '邊', '外面', '東', '末端']\n",
      "=======================\n",
      "A : ['基礎', '單', '國產', '頭號', '二手', '必備', '大幅度', '主', '母', '地下', '優質', '野生', '高度', '超級', '現行', '新一代', '火紅', '碧藍', '業餘', '原', '常務', '最佳', '共同', '後置', '寶有', '真正', '彩色', '新興', '綜合', '超', '基層', '同等', '現役', '獨家', '獨門', '上上', '總', '長途', '中西', '前置', '額外', '小本', '雙', '獨角', '乒乓', '多餘', '非', '一般', '唯一', '眾', '麻辣', '中', '重磅', '歐式']\n",
      "=======================\n",
      "V_2 : ['有']\n",
      "=======================\n",
      "VL : ['令', '敢', '導致', '故意', '使', '便利', '甘願', '後悔', '愛好', '讓', '愛', '使得', '持續', '不惜', '喜好', '習慣', '致', '肯', '能', '開始', '趨於', '用來']\n",
      "=======================\n",
      "T : ['唄', '嘛', '咯', '啦', '來', '的', '了', '哦', '吧', '去', '矣', '啊', '哪', '呢', '麼', '嗎']\n",
      "=======================\n",
      "VI : ['取勝', '著稱', '驚艷', '專用']\n",
      "=======================\n",
      "DASHCATEGORY : ['—', '-']\n",
      "=======================\n",
      "I : ['瑪法里奧', '哦']\n",
      "=======================\n",
      "Dk : ['那麼', '反過來', '據說', '想不到', '外傳', '據聞', '那', '結果']\n",
      "=======================\n",
      "VF : ['告誡', '準備', '推選', '申請', '打算', '拒', '助', '擬', '勸住', '逼', '繼續', '叫', '請', '試試', '要求', '勸說', '止住', '率領', '策劃', '試', '帶領', '圖', '停止', '邀', '拒絕', '判', '鼓勵', '催']\n",
      "=======================\n",
      "Da : ['將近', '僅', '近', '唯獨', '最多', '共', '光', '只', '足足', '約', '正好', '幾近', '才', '幾乎', '不下']\n",
      "=======================\n",
      "PARENTHESISCATEGORY : ['）', '」', '(', '》', '「', '《', '（']\n",
      "=======================\n",
      "Nv : ['買單', '疊加', '回歸', '護髮', '錄制', '遊樂', '防治', '推薦', '輔助', '灌籃', '研究', '抗戰', '代理', '問', '度假', '私募', '兼職', '供電', '燃燒', '管理', '體驗', '登山', '創業', '崩潰', '工作', '射擊', '關聯', '營銷', '經歷', '批發', '銷售', '判罰', '開發', '安全', '組合', '訴訟', '翻譯', '解救', '生產', '絕殺', '航海', '分銷', '增發', '旅遊', '思考', '配置']\n",
      "=======================\n",
      "PERIODCATEGORY : ['·', '。']\n",
      "=======================\n",
      "VAC : ['移動', '動', '集合', '推進', '蒸發', '上演']\n",
      "=======================\n",
      "Dfb : ['夠', '一點', '些', '極了']\n",
      "=======================\n",
      "Cab : ['等等', '等']\n",
      "=======================\n",
      "SEMICOLONCATEGORY : ['；']\n",
      "=======================\n",
      "Neqb : ['以上', '多', '半']\n",
      "=======================\n",
      "ETCCATEGORY : ['…']\n",
      "=======================\n",
      "Cba : ['的話']\n",
      "=======================\n",
      "DOTCATEGORY : ['.']\n",
      "=======================\n"
     ]
    }
   ],
   "source": [
    "pos_analysis = {}\n",
    "for _, pairs in train_title_cuts.items():\n",
    "    for word, flag in pairs:\n",
    "        if flag not in pos_analysis:\n",
    "            pos_analysis[flag] = set()\n",
    "        pos_analysis[flag].add(word)\n",
    "\n",
    "for flag, words in pos_analysis.items():\n",
    "    print(flag, ':', list(words)[:100])\n",
    "    print('=======================')"
   ]
  },
  {
   "cell_type": "markdown",
   "metadata": {},
   "source": [
    "|         Type        |     Description    |\n",
    "|:-------------------:|:------------------:|\n",
    "| A                   | 非謂形容詞         |\n",
    "| Caa                 | 對等連接詞         |\n",
    "| Cab                 | 連接詞，如：等等   |\n",
    "| Cba                 | 連接詞，如：的話   |\n",
    "| Cbb                 | 關聯連接詞         |\n",
    "| D                   | 副詞               |\n",
    "| Da                  | 數量副詞           |\n",
    "| Dfa                 | 動詞前程度副詞     |\n",
    "| Dfb                 | 動詞後程度副詞     |\n",
    "| Di                  | 時態標記           |\n",
    "| Dk                  | 句副詞             |\n",
    "| DM                  | 定量式             |\n",
    "| I                   | 感嘆詞             |\n",
    "| Na                  | 普通名詞           |\n",
    "| Nb                  | 專有名詞           |\n",
    "| Nc                  | 地方詞             |\n",
    "| Ncd                 | 位置詞             |\n",
    "| Nd                  | 時間詞             |\n",
    "| Nep                 | 指代定詞           |\n",
    "| Neqa                | 數量定詞           |\n",
    "| Neqb                | 後置數量定詞       |\n",
    "| Nes                 | 特指定詞           |\n",
    "| Neu                 | 數詞定詞           |\n",
    "| Nf                  | 量詞               |\n",
    "| Ng                  | 後置詞             |\n",
    "| Nh                  | 代名詞             |\n",
    "| Nv                  | 名物化動詞         |\n",
    "| P                   | 介詞               |\n",
    "| T                   | 語助詞             |\n",
    "| VA                  | 動作不及物動詞     |\n",
    "| VAC                 | 動作使動動詞       |\n",
    "| VB                  | 動作類及物動詞     |\n",
    "| VC                  | 動作及物動詞       |\n",
    "| VCL                 | 動作接地方賓語動詞 |\n",
    "| VD                  | 雙賓動詞           |\n",
    "| VF                  | 動作謂賓動詞       |\n",
    "| VE                  | 動作句賓動詞       |\n",
    "| VG                  | 分類動詞           |\n",
    "| VH                  | 狀態不及物動詞     |\n",
    "| VHC                 | 狀態使動動詞       |\n",
    "| VI                  | 狀態類及物動詞     |\n",
    "| VJ                  | 狀態及物動詞       |\n",
    "| VK                  | 狀態句賓動詞       |\n",
    "| VL                  | 狀態謂賓動詞       |\n",
    "| V_2                 | 有                 |\n",
    "|                     |                    |\n",
    "| DE                  | 的之得地           |\n",
    "| SHI                 | 是                 |\n",
    "| FW                  | 外文               |\n",
    "|                     |                    |\n",
    "| COLONCATEGORY       | 冒號               |\n",
    "| COMMACATEGORY       | 逗號               |\n",
    "| DASHCATEGORY        | 破折號             |\n",
    "| DOTCATEGORY         | 點號               |\n",
    "| ETCCATEGORY         | 刪節號             |\n",
    "| EXCLAMATIONCATEGORY | 驚嘆號             |\n",
    "| PARENTHESISCATEGORY | 括號               |\n",
    "| PAUSECATEGORY       | 頓號               |\n",
    "| PERIODCATEGORY      | 句號               |\n",
    "| QUESTIONCATEGORY    | 問號               |\n",
    "| SEMICOLONCATEGORY   | 分號               |\n",
    "| SPCHANGECATEGORY    | 雙直線             |\n",
    "| WHITESPACE          | 空白               |"
   ]
  },
  {
   "cell_type": "code",
   "execution_count": 63,
   "metadata": {},
   "outputs": [],
   "source": [
    "def get_bow_vector_with_selection(pairs, word2index):\n",
    "    excluded_flags = [\n",
    "        # 根據以上列舉出來的文字以及詞性表，請列出想要排除的詞性\n",
    "        # YOUR CODE HERE\n",
    "        'DE', 'COLONCATEGORY', 'COMMACATEGORY', 'DASHCATEGORY', 'DOTCATEGORY', 'ETCCATEGORY', 'EXCLAMATIONCATEGORY',\n",
    "        'PARENTHESISCATEGORY', 'PAUSECATEGORY', 'PERIODCATEGORY', 'QUESTIONCATEGORY', 'SEMICOLONCATEGORY', 'SPCHANGECATEGORY',\n",
    "        'WHITESPACE'\n",
    "        # END YOUR CODE\n",
    "    ]\n",
    "    vector = np.zeros(len(word2index))\n",
    "    for word, flag in pairs:\n",
    "        if word in word2index and flag not in excluded_flags:\n",
    "            vector[word2index[word]] += 1\n",
    "    return vector"
   ]
  },
  {
   "cell_type": "markdown",
   "metadata": {},
   "source": [
    "# Cosine Similarity"
   ]
  },
  {
   "cell_type": "code",
   "execution_count": 66,
   "metadata": {},
   "outputs": [],
   "source": [
    "def cosine_similarity(bow1, bow2):\n",
    "    # YOUR CODE HERE\n",
    "    dot = sum(a*b for a, b in zip(bow1, bow2))\n",
    "    norm_a = sum(a*a for a in bow1) ** 0.5\n",
    "    norm_b = sum(b*b for b in bow2) ** 0.5\n",
    "    # END YOUR CODE\n",
    "    return dot/(norm_a*norm_b)"
   ]
  },
  {
   "cell_type": "code",
   "execution_count": 67,
   "metadata": {},
   "outputs": [
    {
     "data": {
      "text/plain": [
       "0.08703882797784893"
      ]
     },
     "execution_count": 67,
     "metadata": {},
     "output_type": "execute_result"
    }
   ],
   "source": [
    "bow1 = get_bow_vector(train_title_cuts[100], word2index)\n",
    "bow2 = get_bow_vector(train_title_cuts[130], word2index)\n",
    "cosine_similarity(bow1, bow2)"
   ]
  },
  {
   "cell_type": "code",
   "execution_count": 68,
   "metadata": {},
   "outputs": [
    {
     "data": {
      "text/plain": [
       "[('山東', 'Nc'),\n",
       " ('魯能', 'Nb'),\n",
       " ('有沒有', 'D'),\n",
       " ('可能', 'D'),\n",
       " ('拿到', 'VC'),\n",
       " ('今年', 'Nd'),\n",
       " ('的', 'DE'),\n",
       " ('中', 'A'),\n",
       " ('超', 'A'),\n",
       " ('冠軍', 'Na'),\n",
       " ('？', 'QUESTIONCATEGORY')]"
      ]
     },
     "execution_count": 68,
     "metadata": {},
     "output_type": "execute_result"
    }
   ],
   "source": [
    "train_title_cuts[100]"
   ]
  },
  {
   "cell_type": "code",
   "execution_count": 69,
   "metadata": {},
   "outputs": [
    {
     "data": {
      "text/plain": [
       "[('NBA', 'Nb'),\n",
       " ('和', 'Caa'),\n",
       " ('CBA', 'FW'),\n",
       " ('差距', 'Na'),\n",
       " ('在', 'P'),\n",
       " ('哪裡', 'Ncd'),\n",
       " ('？', 'QUESTIONCATEGORY'),\n",
       " ('6', 'Neu'),\n",
       " ('張', 'Nf'),\n",
       " ('圖', 'VF'),\n",
       " ('一目瞭然', 'VH'),\n",
       " ('！', 'EXCLAMATIONCATEGORY')]"
      ]
     },
     "execution_count": 69,
     "metadata": {},
     "output_type": "execute_result"
    }
   ],
   "source": [
    "train_title_cuts[130]"
   ]
  },
  {
   "cell_type": "markdown",
   "metadata": {},
   "source": [
    "# Group mean vector"
   ]
  },
  {
   "cell_type": "code",
   "execution_count": 70,
   "metadata": {},
   "outputs": [
    {
     "data": {
      "text/plain": [
       "{'體育': array([0.04      , 0.00333333, 0.        , ..., 0.        , 0.        ,\n",
       "        0.        ]),\n",
       " '財經': array([0., 0., 0., ..., 0., 0., 0.]),\n",
       " '科技': array([0., 0., 0., ..., 0., 0., 0.]),\n",
       " '旅遊': array([0., 0., 0., ..., 0., 0., 0.]),\n",
       " '農業': array([0., 0., 0., ..., 0., 0., 0.]),\n",
       " '遊戲': array([0.        , 0.        , 0.        , ..., 0.00333333, 0.00333333,\n",
       "        0.00333333])}"
      ]
     },
     "execution_count": 70,
     "metadata": {},
     "output_type": "execute_result"
    }
   ],
   "source": [
    "group_vectors = {news_class: [] for news_class in all_news_class}\n",
    "for index, pairs in sorted(train_title_cuts.items()):\n",
    "    vector = get_bow_vector_with_selection(pairs, word2index)\n",
    "    news_class = train_classes[index]\n",
    "    group_vectors[news_class].append(vector)\n",
    "\n",
    "group_mean_vector = {}\n",
    "for news_class, vectors in group_vectors.items():\n",
    "    group_mean_vector[news_class] = np.mean(vectors, axis=0)\n",
    "group_mean_vector"
   ]
  },
  {
   "cell_type": "markdown",
   "metadata": {},
   "source": [
    "# Group mean vector: 測試"
   ]
  },
  {
   "cell_type": "code",
   "execution_count": null,
   "metadata": {
    "tags": []
   },
   "outputs": [],
   "source": [
    "classification = {news_class: [] for news_class in all_news_class}\n",
    "for index, pairs in sorted(test_title_cuts.items()):\n",
    "    vector = get_bow_vector_with_selection(pairs, word2index)\n",
    "    if np.sum(np.square(vector)) == 0:\n",
    "        continue\n",
    "\n",
    "    max_val = -2.0\n",
    "    max_class = None\n",
    "    for news_class, ref_vector in group_mean_vector.items():\n",
    "        val = cosine_similarity(ref_vector, vector)\n",
    "        if val > max_val:\n",
    "            max_class = news_class\n",
    "            max_val = val\n",
    "\n",
    "    classification[max_class].append(index)"
   ]
  },
  {
   "cell_type": "code",
   "execution_count": null,
   "metadata": {
    "tags": []
   },
   "outputs": [],
   "source": [
    "from collections import Counter\n",
    "\n",
    "for group, ids in classification.items():\n",
    "    counter = Counter([test_classes[id] for id in ids])\n",
    "    print('predict', group, ': ', counter)"
   ]
  },
  {
   "cell_type": "code",
   "execution_count": null,
   "metadata": {},
   "outputs": [],
   "source": []
  }
 ],
 "metadata": {
  "kernelspec": {
   "display_name": "Python 3",
   "language": "python",
   "name": "python3"
  },
  "language_info": {
   "codemirror_mode": {
    "name": "ipython",
    "version": 3
   },
   "file_extension": ".py",
   "mimetype": "text/x-python",
   "name": "python",
   "nbconvert_exporter": "python",
   "pygments_lexer": "ipython3",
   "version": "3.6.9"
  }
 },
 "nbformat": 4,
 "nbformat_minor": 2
}
