{
 "cells": [
  {
   "cell_type": "markdown",
   "metadata": {},
   "source": [
    "## 作業目標: 透過思考與回答以更加了解計數方法的詞向量"
   ]
  },
  {
   "cell_type": "markdown",
   "metadata": {},
   "source": [
    "### 請問詞庫手法會有什麼樣的優缺點？\n",
    "\n",
    "詞庫手法為創建包含大量字詞的詞庫，將相同意思字詞(同義字)或相似意思字詞(相似字)分類在相同群組。\n",
    "\n",
    "優點:\n",
    "準確度跟精度較高，不容易斷出很奇怪的詞彙\n",
    "\n",
    "缺點:\n",
    "需人工維護，且新詞出現時無法判斷，必須case by case的加上字典"
   ]
  },
  {
   "cell_type": "markdown",
   "metadata": {},
   "source": [
    "### 請問共現矩陣有什麼樣的優缺點？ \n",
    "\n",
    "根據分佈假說，相似的字詞會有類似的上下文，因此我們可以透過計數周圍(window)的字詞來表達特定字詞的向量。\n",
    "\n",
    "優點:\n",
    "考慮上下文，每個詞有自己的向量\n",
    "\n",
    "缺點:\n",
    "矩陣維度龐大，空間複雜度高\n",
    "，對高頻詞效果較差"
   ]
  },
  {
   "cell_type": "markdown",
   "metadata": {},
   "source": [
    "### 請問為何需要對共現矩陣或PPMI進行SVD降維?\n",
    "\n",
    "因這兩種矩陣為稀疏矩陣，也就是有需多元素是0，是沒什麼資訊量的詞，降維主要是降低資訊的複雜度並把有用得資訊(非0)保留下來，將0移除"
   ]
  },
  {
   "cell_type": "markdown",
   "metadata": {},
   "source": [
    "### 實作cosine similarity\n",
    "\n",
    "在比較兩個詞向量的相似度時可以使用cosine similarity:\n",
    "$$\n",
    "similarity(x,y) = \\frac{x \\cdot y}{||x||||y||} = \\frac{x_1y_1+...+x_ny_n}{\\sqrt{x_1^2+...+x_n^2}\\sqrt{y_1^2+...+y_n^2}}\n",
    "$$\n",
    "\n",
    "請實作cosine similarity並計算共現矩陣課程範例中you向量([0,1,0,0,0,0,0])與I([0,1,0,1,0,0,0])向量的相似度"
   ]
  },
  {
   "cell_type": "code",
   "execution_count": 2,
   "metadata": {},
   "outputs": [
    {
     "name": "stdout",
     "output_type": "stream",
     "text": [
      "Similarity: 0.7071067758832467\n"
     ]
    }
   ],
   "source": [
    "import numpy as np\n",
    "I = np.array([0,1,0,0,0,0,0])\n",
    "You = np.array([0,1,0,1,0,0,0])\n",
    "\n",
    "def cos_similarity(x, y, eps=1e-8):\n",
    "    return x.dot(y)/(np.sqrt(np.sum(x**2) + eps)*np.sqrt(np.sum(y**2) + eps))\n",
    "\n",
    "print(f\"Similarity: {cos_similarity(I, You)}\")"
   ]
  },
  {
   "cell_type": "code",
   "execution_count": null,
   "metadata": {},
   "outputs": [],
   "source": []
  }
 ],
 "metadata": {
  "kernelspec": {
   "display_name": "Python 3",
   "language": "python",
   "name": "python3"
  },
  "language_info": {
   "codemirror_mode": {
    "name": "ipython",
    "version": 3
   },
   "file_extension": ".py",
   "mimetype": "text/x-python",
   "name": "python",
   "nbconvert_exporter": "python",
   "pygments_lexer": "ipython3",
   "version": "3.6.9"
  }
 },
 "nbformat": 4,
 "nbformat_minor": 2
}
