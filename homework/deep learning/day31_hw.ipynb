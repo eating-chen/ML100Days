{
 "cells": [
  {
   "cell_type": "code",
   "execution_count": 1,
   "metadata": {
    "id": "dYXLNPim8Jiv"
   },
   "outputs": [],
   "source": [
    "# 載入相關套件\n",
    "import os\n",
    "import re, warnings\n",
    "from tqdm import tqdm\n",
    "import numpy as np\n",
    "import pandas as pd\n",
    "import matplotlib.pyplot as plt\n",
    "\n",
    "warnings.filterwarnings(\"ignore\")\n",
    "%matplotlib inline"
   ]
  },
  {
   "cell_type": "code",
   "execution_count": 2,
   "metadata": {
    "id": "e0fSUAvKi01l"
   },
   "outputs": [],
   "source": [
    "from pydrive.auth import GoogleAuth\n",
    "from pydrive.drive import GoogleDrive\n",
    "from google.colab import auth\n",
    "from oauth2client.client import GoogleCredentials\n",
    "\n",
    "# Authorize Google SDK to access Google Drive from Colab\n",
    "\n",
    "auth.authenticate_user()\n",
    "qauth = GoogleAuth()\n",
    "qauth.credentials = GoogleCredentials.get_application_default()\n",
    "drive = GoogleDrive(qauth)"
   ]
  },
  {
   "cell_type": "code",
   "execution_count": 3,
   "metadata": {
    "colab": {
     "base_uri": "https://localhost:8080/"
    },
    "id": "LkWjuxuoi8JA",
    "outputId": "b83b9763-fc13-4fed-ac72-3655a4108fa7"
   },
   "outputs": [
    {
     "name": "stdout",
     "output_type": "stream",
     "text": [
      "Drive already mounted at /content/drive; to attempt to forcibly remount, call drive.mount(\"/content/drive\", force_remount=True).\n"
     ]
    }
   ],
   "source": [
    "from google.colab import drive\n",
    "drive.mount('/content/drive')"
   ]
  },
  {
   "cell_type": "code",
   "execution_count": 4,
   "metadata": {
    "id": "IK07o1e7itjj"
   },
   "outputs": [],
   "source": [
    "# 將訓練資料切割成 訓練集 / 驗證集\n",
    "from sklearn.model_selection import train_test_split\n",
    "dir = '/content/drive/My Drive/data/ch30'\n",
    "df =  pd.read_csv(dir + '/train.csv')\n",
    "X = df.text.values\n",
    "y = df.target.values\n",
    "\n",
    "X_train, X_val, y_train, y_val = train_test_split(X, y, test_size=0.1, random_state=2020)"
   ]
  },
  {
   "cell_type": "code",
   "execution_count": 5,
   "metadata": {
    "colab": {
     "base_uri": "https://localhost:8080/",
     "height": 204
    },
    "id": "0XiZi_RMjWt0",
    "outputId": "9fb72c14-24ce-49f5-d3ca-2d5fb046ebcf"
   },
   "outputs": [
    {
     "data": {
      "text/html": [
       "<div>\n",
       "<style scoped>\n",
       "    .dataframe tbody tr th:only-of-type {\n",
       "        vertical-align: middle;\n",
       "    }\n",
       "\n",
       "    .dataframe tbody tr th {\n",
       "        vertical-align: top;\n",
       "    }\n",
       "\n",
       "    .dataframe thead th {\n",
       "        text-align: right;\n",
       "    }\n",
       "</style>\n",
       "<table border=\"1\" class=\"dataframe\">\n",
       "  <thead>\n",
       "    <tr style=\"text-align: right;\">\n",
       "      <th></th>\n",
       "      <th>id</th>\n",
       "      <th>text</th>\n",
       "    </tr>\n",
       "  </thead>\n",
       "  <tbody>\n",
       "    <tr>\n",
       "      <th>1040</th>\n",
       "      <td>3420</td>\n",
       "      <td>Everyone starts a #UX project with the best in...</td>\n",
       "    </tr>\n",
       "    <tr>\n",
       "      <th>1671</th>\n",
       "      <td>5639</td>\n",
       "      <td>@caseyliss def - and donÛªt even fathom when ...</td>\n",
       "    </tr>\n",
       "    <tr>\n",
       "      <th>2896</th>\n",
       "      <td>9588</td>\n",
       "      <td>I need a thunder buddy. ????</td>\n",
       "    </tr>\n",
       "    <tr>\n",
       "      <th>3029</th>\n",
       "      <td>10002</td>\n",
       "      <td>Drunk #BBMeg! ??????</td>\n",
       "    </tr>\n",
       "    <tr>\n",
       "      <th>2773</th>\n",
       "      <td>9213</td>\n",
       "      <td>@PieroCastellano @nipped suicide bombing civil...</td>\n",
       "    </tr>\n",
       "  </tbody>\n",
       "</table>\n",
       "</div>"
      ],
      "text/plain": [
       "         id                                               text\n",
       "1040   3420  Everyone starts a #UX project with the best in...\n",
       "1671   5639  @caseyliss def - and donÛªt even fathom when ...\n",
       "2896   9588                       I need a thunder buddy. ????\n",
       "3029  10002                               Drunk #BBMeg! ??????\n",
       "2773   9213  @PieroCastellano @nipped suicide bombing civil..."
      ]
     },
     "execution_count": 5,
     "metadata": {
      "tags": []
     },
     "output_type": "execute_result"
    }
   ],
   "source": [
    "# 載入測試資料\n",
    "test_df = pd.read_csv(dir + '/test.csv')\n",
    "test_df = test_df[['id', 'text']]\n",
    "test_df.sample(5)"
   ]
  },
  {
   "cell_type": "code",
   "execution_count": 6,
   "metadata": {
    "colab": {
     "base_uri": "https://localhost:8080/"
    },
    "id": "BT_kQ_ZRj1VO",
    "outputId": "8f5c09c4-8f80-45a1-e85e-9386c0a3c2e4"
   },
   "outputs": [
    {
     "name": "stdout",
     "output_type": "stream",
     "text": [
      "There are 1 GPU(s) available.\n",
      "Device name: Tesla P100-PCIE-16GB\n"
     ]
    }
   ],
   "source": [
    "# 載入 pytorch 套件, 依照現有環境判定是否使用 GPU 計算\n",
    "import torch\n",
    "\n",
    "if torch.cuda.is_available():       \n",
    "    device = torch.device(\"cuda\")\n",
    "    print(f'There are {torch.cuda.device_count()} GPU(s) available.')\n",
    "    print('Device name:', torch.cuda.get_device_name(0))\n",
    "\n",
    "else:\n",
    "    print('No GPU available, using the CPU instead.')\n",
    "    device = torch.device(\"cpu\")"
   ]
  },
  {
   "cell_type": "code",
   "execution_count": 7,
   "metadata": {
    "id": "1iAJ6BqLj5Xh"
   },
   "outputs": [],
   "source": [
    "# 前處理\n",
    "def text_preprocessing(text):\n",
    "    # 移除推特的姓名標籤 ('@name')\n",
    "    text = re.sub(r'(@.*?)[\\s]', ' ', text)\n",
    "    # 將 '&amp;' 替換成 '&'\n",
    "    text = re.sub(r'&amp;', '&', text)\n",
    "    # 移除文末的空白字元\n",
    "    text = re.sub(r'\\s+', ' ', text).strip()\n",
    "    return text"
   ]
  },
  {
   "cell_type": "code",
   "execution_count": 8,
   "metadata": {
    "colab": {
     "base_uri": "https://localhost:8080/"
    },
    "id": "fdOYVfYlj-Pv",
    "outputId": "5f975fc9-1651-4358-9f5f-bfebeea34cdb"
   },
   "outputs": [
    {
     "name": "stdout",
     "output_type": "stream",
     "text": [
      "Original:  London is cool ;)\n",
      "Processed:  London is cool ;)\n"
     ]
    }
   ],
   "source": [
    "# 印出第一組推文在前處理之前與之後的改變\n",
    "print('Original: ', X[21])\n",
    "print('Processed: ', text_preprocessing(X[21]))"
   ]
  },
  {
   "cell_type": "markdown",
   "metadata": {
    "id": "R5eimyKFkajI"
   },
   "source": [
    "## BertTokenizer.from_pretrained提供下列5種方法：\n",
    "\n",
    "* bert-base-uncased: 12-layer, 768-hidden, 12-heads, 110M parameters\n",
    "* bert-large-uncased: 24-layer, 1024-hidden, 16-heads, 340M parameters\n",
    "* bert-base-cased: 12-layer, 768-hidden, 12-heads , 110M parameters\n",
    "* bert-base-multilingual: 102 languages, 12-layer, 768-hidden, 12-heads, 110M parameters\n",
    "* bert-base-chinese: Chinese Simplified and Traditional, 12-layer, 768-hidden, 12-heads, 110M parameters"
   ]
  },
  {
   "cell_type": "code",
   "execution_count": 9,
   "metadata": {
    "colab": {
     "base_uri": "https://localhost:8080/"
    },
    "id": "R1cAxi3Nj_wI",
    "outputId": "5004799c-2935-40c3-ae35-f34f17ce2ad9"
   },
   "outputs": [
    {
     "name": "stdout",
     "output_type": "stream",
     "text": [
      "Requirement already satisfied: transformers in /usr/local/lib/python3.7/dist-packages (4.4.2)\n",
      "Requirement already satisfied: tqdm>=4.27 in /usr/local/lib/python3.7/dist-packages (from transformers) (4.41.1)\n",
      "Requirement already satisfied: filelock in /usr/local/lib/python3.7/dist-packages (from transformers) (3.0.12)\n",
      "Requirement already satisfied: packaging in /usr/local/lib/python3.7/dist-packages (from transformers) (20.9)\n",
      "Requirement already satisfied: numpy>=1.17 in /usr/local/lib/python3.7/dist-packages (from transformers) (1.19.5)\n",
      "Requirement already satisfied: tokenizers<0.11,>=0.10.1 in /usr/local/lib/python3.7/dist-packages (from transformers) (0.10.1)\n",
      "Requirement already satisfied: regex!=2019.12.17 in /usr/local/lib/python3.7/dist-packages (from transformers) (2019.12.20)\n",
      "Requirement already satisfied: requests in /usr/local/lib/python3.7/dist-packages (from transformers) (2.23.0)\n",
      "Requirement already satisfied: sacremoses in /usr/local/lib/python3.7/dist-packages (from transformers) (0.0.43)\n",
      "Requirement already satisfied: importlib-metadata; python_version < \"3.8\" in /usr/local/lib/python3.7/dist-packages (from transformers) (3.8.1)\n",
      "Requirement already satisfied: pyparsing>=2.0.2 in /usr/local/lib/python3.7/dist-packages (from packaging->transformers) (2.4.7)\n",
      "Requirement already satisfied: urllib3!=1.25.0,!=1.25.1,<1.26,>=1.21.1 in /usr/local/lib/python3.7/dist-packages (from requests->transformers) (1.24.3)\n",
      "Requirement already satisfied: idna<3,>=2.5 in /usr/local/lib/python3.7/dist-packages (from requests->transformers) (2.10)\n",
      "Requirement already satisfied: chardet<4,>=3.0.2 in /usr/local/lib/python3.7/dist-packages (from requests->transformers) (3.0.4)\n",
      "Requirement already satisfied: certifi>=2017.4.17 in /usr/local/lib/python3.7/dist-packages (from requests->transformers) (2020.12.5)\n",
      "Requirement already satisfied: joblib in /usr/local/lib/python3.7/dist-packages (from sacremoses->transformers) (1.0.1)\n",
      "Requirement already satisfied: click in /usr/local/lib/python3.7/dist-packages (from sacremoses->transformers) (7.1.2)\n",
      "Requirement already satisfied: six in /usr/local/lib/python3.7/dist-packages (from sacremoses->transformers) (1.15.0)\n",
      "Requirement already satisfied: typing-extensions>=3.6.4; python_version < \"3.8\" in /usr/local/lib/python3.7/dist-packages (from importlib-metadata; python_version < \"3.8\"->transformers) (3.7.4.3)\n",
      "Requirement already satisfied: zipp>=0.5 in /usr/local/lib/python3.7/dist-packages (from importlib-metadata; python_version < \"3.8\"->transformers) (3.4.1)\n"
     ]
    }
   ],
   "source": [
    "!pip install transformers\n",
    "# 載入 Bert 套件與 tokenizer\n",
    "from transformers import BertTokenizer\n",
    "tokenizer = BertTokenizer.from_pretrained('bert-base-uncased', do_lower_case=True)\n",
    "\n",
    "# 設定 Bert 的前處理函數\n",
    "def preprocessing_for_bert(data):\n",
    "    # 初始化要傳回的資料\n",
    "    input_ids = []\n",
    "    attention_masks = []\n",
    "    # 把所有文句用 tokenizer 編碼\n",
    "    for sent in data:\n",
    "        encoded_sent = tokenizer.encode_plus(\n",
    "            text=text_preprocessing(sent),  # 套用簡化版前處理函數\n",
    "            add_special_tokens=True,        # 加上 `[CLS]` 與 `[SEP]`\n",
    "            max_length=MAX_LEN,             # 需要填充的最大長度\n",
    "            pad_to_max_length=True,         # 是否要填充到最大長度\n",
    "            return_attention_mask=True      # 是否傳回 attention mask\n",
    "            )        \n",
    "        # 更新要傳回的資料\n",
    "        input_ids.append(encoded_sent.get('input_ids'))\n",
    "        attention_masks.append(encoded_sent.get('attention_mask'))\n",
    "    # 將傳回資料轉為 tensor\n",
    "    input_ids = torch.tensor(input_ids)\n",
    "    attention_masks = torch.tensor(attention_masks)\n",
    "\n",
    "    return input_ids, attention_masks"
   ]
  },
  {
   "cell_type": "code",
   "execution_count": 10,
   "metadata": {
    "colab": {
     "base_uri": "https://localhost:8080/"
    },
    "id": "laE6fAEjkx_D",
    "outputId": "e5456cc3-bd0e-4f2b-a0b0-a715a4757ec3"
   },
   "outputs": [
    {
     "name": "stdout",
     "output_type": "stream",
     "text": [
      "Max length:  84\n"
     ]
    }
   ],
   "source": [
    "# 將訓練資料與測試資料的\"推文\"合併\n",
    "all_tweets = np.concatenate([df.text.values, test_df.text.values])\n",
    "\n",
    "# 將推文使用 tokenizer 加以編碼\n",
    "encoded_tweets = [tokenizer.encode(sent, add_special_tokens=True) for sent in all_tweets]\n",
    "\n",
    "# 找出最大的推文長度 (訓練資料 + 預測目標資料)\n",
    "max_len = max([len(sent) for sent in encoded_tweets])\n",
    "print('Max length: ', max_len)"
   ]
  },
  {
   "cell_type": "code",
   "execution_count": 11,
   "metadata": {
    "colab": {
     "base_uri": "https://localhost:8080/"
    },
    "id": "D_5v8H-VvfU7",
    "outputId": "70dcef91-345f-4722-cdc1-c46dca6dd146"
   },
   "outputs": [
    {
     "name": "stderr",
     "output_type": "stream",
     "text": [
      "Truncation was not explicitly activated but `max_length` is provided a specific value, please use `truncation=True` to explicitly truncate examples to max length. Defaulting to 'longest_first' truncation strategy. If you encode pairs of sequences (GLUE-style) with the tokenizer you can select this strategy more precisely by providing a specific strategy to `truncation`.\n"
     ]
    },
    {
     "name": "stdout",
     "output_type": "stream",
     "text": [
      "Original:  Our Deeds are the Reason of this #earthquake May ALLAH Forgive us all\n",
      "Token IDs:  [101, 2256, 15616, 2024, 1996, 3114, 1997, 2023, 1001, 8372, 2089, 16455, 9641, 2149, 2035, 102, 0, 0, 0, 0, 0, 0, 0, 0, 0, 0, 0, 0, 0, 0, 0, 0, 0, 0, 0, 0, 0, 0, 0, 0, 0, 0, 0, 0, 0, 0, 0, 0, 0, 0, 0, 0, 0, 0, 0, 0, 0, 0, 0, 0, 0, 0, 0, 0, 0, 0, 0, 0, 0, 0, 0, 0, 0, 0, 0, 0, 0, 0, 0, 0, 0, 0, 0, 0]\n",
      "Tokenizing data...\n"
     ]
    }
   ],
   "source": [
    "# 將上一格的 Max length 數值填入\n",
    "MAX_LEN = 84\n",
    "\n",
    "# 顯示第一筆資料的推文與期經過 Bert 的前處理函數 (preprocessing_for_bert) 的編碼結果 (確認函數正確)\n",
    "token_ids = list(preprocessing_for_bert([X[0]])[0].squeeze().numpy())\n",
    "print('Original: ', X[0])\n",
    "print('Token IDs: ', token_ids)\n",
    "\n",
    "# 使用 preprocessing_for_bert 將訓練 / 驗證集的推文進行編碼\n",
    "print('Tokenizing data...')\n",
    "train_inputs, train_masks = preprocessing_for_bert(X_train)\n",
    "val_inputs, val_masks = preprocessing_for_bert(X_val)"
   ]
  },
  {
   "cell_type": "code",
   "execution_count": 12,
   "metadata": {
    "id": "swk0BSrIvkuB"
   },
   "outputs": [],
   "source": [
    "from torch.utils.data import TensorDataset, DataLoader, RandomSampler, SequentialSampler\n",
    "\n",
    "# 將訓練與驗證目標值轉為 torch.Tensor\n",
    "train_labels = torch.tensor(y_train)\n",
    "val_labels = torch.tensor(y_val)\n",
    "\n",
    "# 要微調 (fine-tuning) BERT 時, 原作者建議的 batch size 為 16 或 32\n",
    "batch_size = 64\n",
    "\n",
    "# 設定訓練與驗證集的 DataLoader\n",
    "train_data = TensorDataset(train_inputs, train_masks, train_labels)\n",
    "train_sampler = RandomSampler(train_data)\n",
    "train_dataloader = DataLoader(train_data, sampler=train_sampler, batch_size=batch_size)\n",
    "\n",
    "val_data = TensorDataset(val_inputs, val_masks, val_labels)\n",
    "val_sampler = SequentialSampler(val_data)\n",
    "val_dataloader = DataLoader(val_data, sampler=val_sampler, batch_size=batch_size)"
   ]
  },
  {
   "cell_type": "code",
   "execution_count": 13,
   "metadata": {
    "colab": {
     "base_uri": "https://localhost:8080/"
    },
    "id": "AGESgK0ww-0i",
    "outputId": "b92f6e35-d446-4833-c918-022969888508"
   },
   "outputs": [
    {
     "name": "stdout",
     "output_type": "stream",
     "text": [
      "CPU times: user 21.2 ms, sys: 2.01 ms, total: 23.2 ms\n",
      "Wall time: 22.1 ms\n"
     ]
    }
   ],
   "source": [
    "%%time\n",
    "# 載入 pytorch 與 Bert 相關套件\n",
    "import torch\n",
    "import torch.nn as nn\n",
    "from transformers import BertModel\n",
    "\n",
    "# 自定義 Bert 分類器函數\n",
    "class BertClassifier(nn.Module):\n",
    "    def __init__(self, freeze_bert=False):\n",
    "        super(BertClassifier, self).__init__()\n",
    "        # 指定 BERT 輸入長度大小(D_in), 分類器的隱藏層大小(H), 以及分類目標值的種類數量(D_out)\n",
    "        D_in, H, D_out = 768, 128, 2\n",
    "        # 載入 Bert 預訓練權重作為初始值\n",
    "        self.bert = BertModel.from_pretrained('bert-base-uncased')\n",
    "\n",
    "        # 初始化自定義分類器的類神經網路\n",
    "        self.classifier = nn.Sequential(\n",
    "            nn.Linear(D_in, H),\n",
    "            nn.ReLU(),\n",
    "            #nn.Dropout(0.5),\n",
    "            nn.Linear(H, D_out)\n",
    "        )\n",
    "        # 凍結 Bert 部分的權重\n",
    "        if freeze_bert:\n",
    "            for param in self.bert.parameters():\n",
    "                param.requires_grad = False\n",
    "        \n",
    "    def forward(self, input_ids, attention_mask):\n",
    "        # 將資料輸入 BERT\n",
    "        outputs = self.bert(input_ids=input_ids,\n",
    "                            attention_mask=attention_mask)        \n",
    "        # 將輸出結果存在 last_hidden_state_cls 中\n",
    "        last_hidden_state_cls = outputs[0][:, 0, :]\n",
    "        # 將輸出結果輸入自定義分類器\n",
    "        logits = self.classifier(last_hidden_state_cls)\n",
    "\n",
    "        return logits"
   ]
  },
  {
   "cell_type": "code",
   "execution_count": 14,
   "metadata": {
    "id": "IovKOVtOx2er"
   },
   "outputs": [],
   "source": [
    "from transformers import AdamW, get_linear_schedule_with_warmup\n",
    "\n",
    "def initialize_model(epochs=4):\n",
    "    # 初始化 Bert 分類器\n",
    "    bert_classifier = BertClassifier(freeze_bert=False)\n",
    "    # 告訴 PyTorch 模型需要在 GPU 上執行\n",
    "    bert_classifier.to(device)\n",
    "    # 設定 optimizer\n",
    "    optimizer = AdamW(bert_classifier.parameters(),\n",
    "                      lr=5e-5,    # 預設的學習速率\n",
    "                      eps=1e-8    # 預設的 epsilon 值\n",
    "                      )\n",
    "    # 計算總共的訓練步數\n",
    "    total_steps = len(train_dataloader) * epochs\n",
    "    # 設定學習率排程\n",
    "    scheduler = get_linear_schedule_with_warmup(optimizer,\n",
    "                                                num_warmup_steps=0, # 預設值\n",
    "                                                num_training_steps=total_steps)\n",
    "    return bert_classifier, optimizer, scheduler"
   ]
  },
  {
   "cell_type": "code",
   "execution_count": 15,
   "metadata": {
    "id": "HvxL_zXXyOIT"
   },
   "outputs": [],
   "source": [
    "import random\n",
    "import time\n",
    "\n",
    "# 設定損失函數\n",
    "loss_fn = nn.CrossEntropyLoss()\n",
    "\n",
    "def set_seed(seed_value=42):\n",
    "    random.seed(seed_value)\n",
    "    np.random.seed(seed_value)\n",
    "    torch.manual_seed(seed_value)\n",
    "    torch.cuda.manual_seed_all(seed_value)\n",
    "\n",
    "def train(model, train_dataloader, val_dataloader=None, epochs=4, evaluation=False):\n",
    "    # 開始訓練迴圈\n",
    "    print(\"Start training...\\n\")\n",
    "    for epoch_i in range(epochs):\n",
    "        # 印出變數表格標題\n",
    "        print(f\"{'Epoch':^7} | {'Batch':^7} | {'Train Loss':^12} | {'Val Loss':^10} | {'Val Acc':^9} | {'Elapsed':^9}\")\n",
    "        print(\"-\"*70)\n",
    "        # 測量每個 epoch 的執行時間\n",
    "        t0_epoch, t0_batch = time.time(), time.time()\n",
    "        # 每個 epoch 開始時重置追蹤的變數\n",
    "        total_loss, batch_loss, batch_counts = 0, 0, 0\n",
    "        # 將模型切換到訓練模式\n",
    "        model.train()\n",
    "        # 訓練資料的每個 batch \n",
    "        for step, batch in enumerate(train_dataloader):\n",
    "            batch_counts +=1\n",
    "            # 將所有 batch 資料載入 GPU\n",
    "            b_input_ids, b_attn_mask, b_labels = tuple(t.to(device) for t in batch)\n",
    "            # 將模型中之前計算的梯度歸零\n",
    "            model.zero_grad()\n",
    "            # 執行一個向前傳遞. 這會傳回一個 logit 值\n",
    "            logits = model(b_input_ids, b_attn_mask)\n",
    "            # 計算並累加損失值\n",
    "            loss = loss_fn(logits, b_labels)\n",
    "            batch_loss += loss.item()\n",
    "            total_loss += loss.item()\n",
    "            # 執行一個向後傳遞以計算梯度\n",
    "            loss.backward()\n",
    "            # 將梯度侷限在正負 1 範圍內, 防止梯度爆炸\n",
    "            torch.nn.utils.clip_grad_norm_(model.parameters(), 1.0)\n",
    "            # 更新參數與學習率\n",
    "            optimizer.step()\n",
    "            scheduler.step()\n",
    "            # 每 20 個 batches 印出損失值與執行時間一次\n",
    "            if (step % 20 == 0 and step != 0) or (step == len(train_dataloader) - 1):\n",
    "                # 計算 20 batches 的執行時間\n",
    "                time_elapsed = time.time() - t0_batch\n",
    "                # 印出訓練結果\n",
    "                print(f\"{epoch_i + 1:^7} | {step:^7} | {batch_loss / batch_counts:^12.6f} | {'-':^10} | {'-':^9} | {time_elapsed:^9.2f}\")\n",
    "                # 重置 batch 追蹤變數\n",
    "                batch_loss, batch_counts = 0, 0\n",
    "                t0_batch = time.time()\n",
    "        # 計算全部訓練資料的平均損失值\n",
    "        avg_train_loss = total_loss / len(train_dataloader)\n",
    "\n",
    "        print(\"-\"*70)\n",
    "        if evaluation == True:\n",
    "            # 每個 epoch 訓練完畢後, 在驗證集上檢驗模型的表現\n",
    "            val_loss, val_accuracy = evaluate(model, val_dataloader)\n",
    "            time_elapsed = time.time() - t0_epoch            \n",
    "            print(f\"{epoch_i + 1:^7} | {'-':^7} | {avg_train_loss:^12.6f} | {val_loss:^10.6f} | {val_accuracy:^9.2f} | {time_elapsed:^9.2f}\")\n",
    "            print(\"-\"*70)\n",
    "        print(\"\\n\")    \n",
    "    print(\"Training complete!\")\n",
    "\n",
    "def evaluate(model, val_dataloader):\n",
    "    # 將模型切換到評量模式 : 此模式下暫停使用 dropout 層\n",
    "    model.eval()\n",
    "    # 紀錄評量函數\n",
    "    val_accuracy = []\n",
    "    val_loss = []\n",
    "    # 驗證資料的每個 batch \n",
    "    for batch in val_dataloader:\n",
    "        # 將所有 batch 資料載入 GPU\n",
    "        b_input_ids, b_attn_mask, b_labels = tuple(t.to(device) for t in batch)\n",
    "        # 計算 logit 值\n",
    "        with torch.no_grad():\n",
    "            logits = model(b_input_ids, b_attn_mask)\n",
    "        # 計算損失值\n",
    "        loss = loss_fn(logits, b_labels)\n",
    "        val_loss.append(loss.item())\n",
    "        # 取得預測值\n",
    "        preds = torch.argmax(logits, dim=1).flatten()\n",
    "        # 計算 accuracy 數值\n",
    "        accuracy = (preds == b_labels).cpu().numpy().mean() * 100\n",
    "        val_accuracy.append(accuracy)\n",
    "    # 計算全部驗證資料的平均損失值與平均 accuracy\n",
    "    val_loss = np.mean(val_loss)\n",
    "    val_accuracy = np.mean(val_accuracy)\n",
    "    return val_loss, val_accuracy"
   ]
  },
  {
   "cell_type": "code",
   "execution_count": 16,
   "metadata": {
    "colab": {
     "base_uri": "https://localhost:8080/"
    },
    "id": "akZ3xKv3x698",
    "outputId": "14f73f3a-d3d1-4ee6-e2ec-752fa71b16b9"
   },
   "outputs": [
    {
     "name": "stdout",
     "output_type": "stream",
     "text": [
      "Start training...\n",
      "\n",
      " Epoch  |  Batch  |  Train Loss  |  Val Loss  |  Val Acc  |  Elapsed \n",
      "----------------------------------------------------------------------\n",
      "   1    |   20    |   0.594928   |     -      |     -     |   10.26  \n",
      "   1    |   40    |   0.441820   |     -      |     -     |   9.74   \n",
      "   1    |   60    |   0.433628   |     -      |     -     |   9.73   \n",
      "   1    |   80    |   0.405168   |     -      |     -     |   9.73   \n",
      "   1    |   100   |   0.361499   |     -      |     -     |   9.74   \n",
      "   1    |   107   |   0.386799   |     -      |     -     |   2.99   \n",
      "----------------------------------------------------------------------\n",
      "   1    |    -    |   0.444846   |  0.424221  |   82.26   |   54.09  \n",
      "----------------------------------------------------------------------\n",
      "\n",
      "\n",
      " Epoch  |  Batch  |  Train Loss  |  Val Loss  |  Val Acc  |  Elapsed \n",
      "----------------------------------------------------------------------\n",
      "   2    |   20    |   0.313129   |     -      |     -     |   10.20  \n",
      "   2    |   40    |   0.325050   |     -      |     -     |   9.73   \n",
      "   2    |   60    |   0.292339   |     -      |     -     |   9.73   \n",
      "   2    |   80    |   0.289565   |     -      |     -     |   9.73   \n",
      "   2    |   100   |   0.306253   |     -      |     -     |   9.74   \n",
      "   2    |   107   |   0.457787   |     -      |     -     |   2.98   \n",
      "----------------------------------------------------------------------\n",
      "   2    |    -    |   0.315225   |  0.449913  |   82.01   |   54.03  \n",
      "----------------------------------------------------------------------\n",
      "\n",
      "\n",
      "Training complete!\n"
     ]
    }
   ],
   "source": [
    "set_seed(42) # 設定隨機種子\n",
    "bert_classifier, optimizer, scheduler = initialize_model(epochs=2)\n",
    "train(bert_classifier, train_dataloader, val_dataloader, epochs=2, evaluation=True)"
   ]
  },
  {
   "cell_type": "code",
   "execution_count": 17,
   "metadata": {
    "id": "_3D7gHQe13S2"
   },
   "outputs": [],
   "source": [
    "import torch.nn.functional as F\n",
    "\n",
    "def bert_predict(model, test_dataloader):\n",
    "    # 將模型切換到評量模式 : 此模式下暫停使用 dropout 層\n",
    "    model.eval()\n",
    "    all_logits = []\n",
    "\n",
    "    # 測試資料的每個 batch \n",
    "    for batch in test_dataloader:\n",
    "        # 將所有 batch 資料載入 GPU\n",
    "        b_input_ids, b_attn_mask = tuple(t.to(device) for t in batch)[:2]\n",
    "        # 計算機率\n",
    "        with torch.no_grad():\n",
    "            logits = model(b_input_ids, b_attn_mask)\n",
    "        all_logits.append(logits)    \n",
    "    # 將每個 batch 的 logit 值連結起來\n",
    "    all_logits = torch.cat(all_logits, dim=0)\n",
    "    # 使用 softmax 計算機率\n",
    "    probs = F.softmax(all_logits, dim=1).cpu().numpy()\n",
    "    return probs"
   ]
  },
  {
   "cell_type": "code",
   "execution_count": 18,
   "metadata": {
    "id": "27sQrQs22Mv7"
   },
   "outputs": [],
   "source": [
    "from sklearn.metrics import accuracy_score, roc_curve, auc\n",
    "\n",
    "def evaluate_roc(probs, y_true):\n",
    "    preds = probs[:, 1]\n",
    "    fpr, tpr, threshold = roc_curve(y_true, preds)\n",
    "    roc_auc = auc(fpr, tpr)\n",
    "    print(f'AUC: {roc_auc:.4f}')       \n",
    "    # 取得測試集的 accuracy 值\n",
    "    y_pred = np.where(preds >= 0.5, 1, 0)\n",
    "    accuracy = accuracy_score(y_true, y_pred)\n",
    "    print(f'Accuracy: {accuracy*100:.2f}%')    \n",
    "    # 繪製 ROC AUC\n",
    "    plt.title('Receiver Operating Characteristic')\n",
    "    plt.plot(fpr, tpr, 'b', label = 'AUC = %0.2f' % roc_auc)\n",
    "    plt.legend(loc = 'lower right')\n",
    "    plt.plot([0, 1], [0, 1],'r--')\n",
    "    plt.xlim([0, 1])\n",
    "    plt.ylim([0, 1])\n",
    "    plt.ylabel('True Positive Rate')\n",
    "    plt.xlabel('False Positive Rate')\n",
    "    plt.show()"
   ]
  },
  {
   "cell_type": "code",
   "execution_count": 19,
   "metadata": {
    "colab": {
     "base_uri": "https://localhost:8080/",
     "height": 329
    },
    "id": "EDbioBAK2NnZ",
    "outputId": "94453c9c-63e8-4052-efca-b959ecc4f9e2"
   },
   "outputs": [
    {
     "name": "stdout",
     "output_type": "stream",
     "text": [
      "AUC: 0.8832\n",
      "Accuracy: 82.02%\n"
     ]
    },
    {
     "data": {
      "image/png": "[encoded data removed]",
      "text/plain": [
       "<Figure size 432x288 with 1 Axes>"
      ]
     },
     "metadata": {
      "needs_background": "light",
      "tags": []
     },
     "output_type": "display_data"
    }
   ],
   "source": [
    "# 在測試集上計算預測機率\n",
    "probs = bert_predict(bert_classifier, val_dataloader)\n",
    "# 評價 Bert 分類器\n",
    "evaluate_roc(probs, y_val)"
   ]
  },
  {
   "cell_type": "code",
   "execution_count": 20,
   "metadata": {
    "colab": {
     "base_uri": "https://localhost:8080/"
    },
    "id": "9GHiSqBz2P09",
    "outputId": "be8c59a3-a622-4160-d8d3-22550a882179"
   },
   "outputs": [
    {
     "name": "stdout",
     "output_type": "stream",
     "text": [
      "Start training...\n",
      "\n",
      " Epoch  |  Batch  |  Train Loss  |  Val Loss  |  Val Acc  |  Elapsed \n",
      "----------------------------------------------------------------------\n",
      "   1    |   20    |   0.637497   |     -      |     -     |   5.92   \n",
      "   1    |   40    |   0.474333   |     -      |     -     |   5.65   \n",
      "   1    |   60    |   0.435349   |     -      |     -     |   5.65   \n",
      "   1    |   80    |   0.463419   |     -      |     -     |   5.65   \n",
      "   1    |   100   |   0.395974   |     -      |     -     |   5.64   \n",
      "   1    |   120   |   0.389625   |     -      |     -     |   5.65   \n",
      "   1    |   140   |   0.369914   |     -      |     -     |   5.64   \n",
      "   1    |   160   |   0.428711   |     -      |     -     |   5.65   \n",
      "   1    |   180   |   0.429731   |     -      |     -     |   5.65   \n",
      "   1    |   200   |   0.387244   |     -      |     -     |   5.65   \n",
      "   1    |   220   |   0.374468   |     -      |     -     |   5.65   \n",
      "   1    |   237   |   0.368318   |     -      |     -     |   4.78   \n",
      "----------------------------------------------------------------------\n",
      "\n",
      "\n",
      " Epoch  |  Batch  |  Train Loss  |  Val Loss  |  Val Acc  |  Elapsed \n",
      "----------------------------------------------------------------------\n",
      "   2    |   20    |   0.311494   |     -      |     -     |   5.92   \n",
      "   2    |   40    |   0.301914   |     -      |     -     |   5.65   \n",
      "   2    |   60    |   0.344424   |     -      |     -     |   5.64   \n",
      "   2    |   80    |   0.306116   |     -      |     -     |   5.64   \n",
      "   2    |   100   |   0.334077   |     -      |     -     |   5.64   \n",
      "   2    |   120   |   0.352777   |     -      |     -     |   5.65   \n",
      "   2    |   140   |   0.320868   |     -      |     -     |   5.65   \n",
      "   2    |   160   |   0.314675   |     -      |     -     |   5.64   \n",
      "   2    |   180   |   0.366367   |     -      |     -     |   5.64   \n",
      "   2    |   200   |   0.327552   |     -      |     -     |   5.65   \n",
      "   2    |   220   |   0.325271   |     -      |     -     |   5.65   \n",
      "   2    |   237   |   0.331172   |     -      |     -     |   4.79   \n",
      "----------------------------------------------------------------------\n",
      "\n",
      "\n",
      "Training complete!\n"
     ]
    }
   ],
   "source": [
    "# 連結訓練集與驗證集\n",
    "full_train_data = torch.utils.data.ConcatDataset([train_data, val_data])\n",
    "full_train_sampler = RandomSampler(full_train_data)\n",
    "full_train_dataloader = DataLoader(full_train_data, sampler=full_train_sampler, batch_size=32)\n",
    "\n",
    "# 在完整的訓練資料上重新訓練 Bert 分類器\n",
    "set_seed(42)\n",
    "bert_classifier, optimizer, scheduler = initialize_model(epochs=2)\n",
    "train(bert_classifier, full_train_dataloader, epochs=2)"
   ]
  },
  {
   "cell_type": "code",
   "execution_count": 21,
   "metadata": {
    "colab": {
     "base_uri": "https://localhost:8080/",
     "height": 204
    },
    "id": "IPQa8QlO2pPK",
    "outputId": "f859688b-2b26-4e97-b7c4-b46dbb71a448"
   },
   "outputs": [
    {
     "data": {
      "text/html": [
       "<div>\n",
       "<style scoped>\n",
       "    .dataframe tbody tr th:only-of-type {\n",
       "        vertical-align: middle;\n",
       "    }\n",
       "\n",
       "    .dataframe tbody tr th {\n",
       "        vertical-align: top;\n",
       "    }\n",
       "\n",
       "    .dataframe thead th {\n",
       "        text-align: right;\n",
       "    }\n",
       "</style>\n",
       "<table border=\"1\" class=\"dataframe\">\n",
       "  <thead>\n",
       "    <tr style=\"text-align: right;\">\n",
       "      <th></th>\n",
       "      <th>id</th>\n",
       "      <th>text</th>\n",
       "    </tr>\n",
       "  </thead>\n",
       "  <tbody>\n",
       "    <tr>\n",
       "      <th>2406</th>\n",
       "      <td>8051</td>\n",
       "      <td>Refugees as citizens - The Hindu http://t.co/G...</td>\n",
       "    </tr>\n",
       "    <tr>\n",
       "      <th>134</th>\n",
       "      <td>425</td>\n",
       "      <td>@5SOStag honestly he could say an apocalypse i...</td>\n",
       "    </tr>\n",
       "    <tr>\n",
       "      <th>411</th>\n",
       "      <td>1330</td>\n",
       "      <td>If you bored as shit don't nobody fuck wit you...</td>\n",
       "    </tr>\n",
       "    <tr>\n",
       "      <th>203</th>\n",
       "      <td>663</td>\n",
       "      <td>@RealTwanBrown Yesterday I Had A Heat Attack ?...</td>\n",
       "    </tr>\n",
       "    <tr>\n",
       "      <th>889</th>\n",
       "      <td>2930</td>\n",
       "      <td>The Devil Wears Prada is still one of my favou...</td>\n",
       "    </tr>\n",
       "  </tbody>\n",
       "</table>\n",
       "</div>"
      ],
      "text/plain": [
       "        id                                               text\n",
       "2406  8051  Refugees as citizens - The Hindu http://t.co/G...\n",
       "134    425  @5SOStag honestly he could say an apocalypse i...\n",
       "411   1330  If you bored as shit don't nobody fuck wit you...\n",
       "203    663  @RealTwanBrown Yesterday I Had A Heat Attack ?...\n",
       "889   2930  The Devil Wears Prada is still one of my favou..."
      ]
     },
     "execution_count": 21,
     "metadata": {
      "tags": []
     },
     "output_type": "execute_result"
    }
   ],
   "source": [
    "test_df.sample(5)"
   ]
  },
  {
   "cell_type": "code",
   "execution_count": 24,
   "metadata": {
    "colab": {
     "base_uri": "https://localhost:8080/"
    },
    "id": "DJOuXOEL4ES8",
    "outputId": "488a8d58-4977-446f-c56e-2217ea265c49"
   },
   "outputs": [
    {
     "name": "stdout",
     "output_type": "stream",
     "text": [
      "Tokenizing data...\n"
     ]
    }
   ],
   "source": [
    "# 在測試集推文上執行 `preprocessing_for_bert` 函數\n",
    "print('Tokenizing data...')\n",
    "test_inputs, test_masks = preprocessing_for_bert(test_df['text'])\n",
    "# 宣告測試集的 DataLoader\n",
    "test_dataset = TensorDataset(test_inputs, test_masks)\n",
    "test_sampler = SequentialSampler(test_dataset)\n",
    "test_dataloader = DataLoader(test_dataset, sampler=test_sampler, batch_size=32)"
   ]
  },
  {
   "cell_type": "code",
   "execution_count": 25,
   "metadata": {
    "colab": {
     "base_uri": "https://localhost:8080/"
    },
    "id": "63yYRCzf4GYI",
    "outputId": "c8905da3-1bfb-4401-82f8-6669d3b84061"
   },
   "outputs": [
    {
     "name": "stdout",
     "output_type": "stream",
     "text": [
      "Number of tweets predicted non-negative:  753\n"
     ]
    }
   ],
   "source": [
    "# 在測試資料上計算最終預測機率\n",
    "probs = bert_predict(bert_classifier, test_dataloader)\n",
    "# 將機率值轉為預測(超過門檻的預測為 1, 否則為 0)\n",
    "threshold = 0.9\n",
    "preds = np.where(probs[:, 1] > threshold, 1, 0)\n",
    "# 顯示被判定為\n",
    "print(\"Number of tweets predicted non-negative: \", preds.sum())"
   ]
  },
  {
   "cell_type": "markdown",
   "metadata": {
    "id": "rlBlZA424dCp"
   },
   "source": [
    "batch_size = 32 D_in, H, D_out = 768, 50, 2\n",
    "Acc: 81.68\n",
    "\n",
    "---\n"
   ]
  },
  {
   "cell_type": "code",
   "execution_count": 23,
   "metadata": {
    "id": "HkU-6ovb4J5I"
   },
   "outputs": [],
   "source": []
  }
 ],
 "metadata": {
  "accelerator": "GPU",
  "colab": {
   "collapsed_sections": [],
   "name": "for class.ipynb",
   "provenance": []
  },
  "kernelspec": {
   "display_name": "Python 3",
   "language": "python",
   "name": "python3"
  },
  "language_info": {
   "codemirror_mode": {
    "name": "ipython",
    "version": 3
   },
   "file_extension": ".py",
   "mimetype": "text/x-python",
   "name": "python",
   "nbconvert_exporter": "python",
   "pygments_lexer": "ipython3",
   "version": "3.6.9"
  }
 },
 "nbformat": 4,
 "nbformat_minor": 1
}
