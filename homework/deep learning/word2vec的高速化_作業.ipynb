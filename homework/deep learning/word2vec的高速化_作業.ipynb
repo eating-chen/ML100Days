{
 "cells": [
  {
   "cell_type": "markdown",
   "metadata": {},
   "source": [
    "### 作業目的: 更加了解word2vec高速化\n",
    "本次作業主要是幫同學更熟悉與了解透過各項技巧來加速word2vec的原理，同學可以參考章節講義來回答下列問題。"
   ]
  },
  {
   "cell_type": "markdown",
   "metadata": {},
   "source": [
    "### Q1 - 請問word2vec原本的設計有何問題以及可以怎麼對相對應的問題做改善?\n",
    "\n",
    "\n",
    "Answer:\n",
    "\n",
    "3個問題：\n",
    "1. 若corpus過多，輸入的字詞利用 one-hot ，會佔據過多的記憶體\n",
    "2. 計算上會耗許多的資源與時間(因矩陣龐大)\n",
    "3. Softmax 運算量過大\n",
    "\n",
    "針對上述3個問題進行改善：\n",
    "第1與第2點可透過index來指定需要的列向量(w)\n",
    "第3點將Softmax替換為Hierarchical Softmax 或 Negative Sampling"
   ]
  },
  {
   "cell_type": "markdown",
   "metadata": {},
   "source": [
    "### Q2 - 請問在Negative Sampling中的次方係數，會如何影響字詞的抽取?\n",
    "Hint: 如何影響高頻詞與低頻詞的抽取機率\n",
    "\n",
    "Answer:\n",
    "##your answer##"
   ]
  },
  {
   "cell_type": "code",
   "execution_count": null,
   "metadata": {},
   "outputs": [],
   "source": []
  }
 ],
 "metadata": {
  "kernelspec": {
   "display_name": "Python 3",
   "language": "python",
   "name": "python3"
  },
  "language_info": {
   "codemirror_mode": {
    "name": "ipython",
    "version": 3
   },
   "file_extension": ".py",
   "mimetype": "text/x-python",
   "name": "python",
   "nbconvert_exporter": "python",
   "pygments_lexer": "ipython3",
   "version": "3.6.9"
  }
 },
 "nbformat": 4,
 "nbformat_minor": 2
}
