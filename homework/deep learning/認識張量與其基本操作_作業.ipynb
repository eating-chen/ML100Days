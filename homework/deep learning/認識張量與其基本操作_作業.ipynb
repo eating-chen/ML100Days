{
 "cells": [
  {
   "cell_type": "markdown",
   "metadata": {},
   "source": [
    "### 作業目的: 更加熟習pytorch的tensor操作\n",
    "\n",
    "pytorch中有提供很多的API，讓使用者針對tensor進行各式各樣的操作，本次的作業希望讀者由pytorch的[官方網站](https://pytorch.org/docs/stable/torch.html)中選定四個針對tensor操作的API，對他的使用方法進行範例操作演練。"
   ]
  },
  {
   "cell_type": "markdown",
   "metadata": {},
   "source": [
    "### 選定的API 函數\n",
    "\n",
    "**請寫下選定的API functions**\n",
    "\n",
    "ex:\n",
    "* torch.from_array() / tensor.numpy()\n",
    "* torch.unsqueeze() / torch.squeeze()\n",
    "* tensor.transpose() / tensor.permute()\n",
    "* torch.reshape() / tensor.view()\n",
    "\n",
    "->\n",
    "* is_floating_point\n",
    "* set_printoptions\n",
    "* numel\n",
    "* torch.unsqueeze() / torch.squeeze()"
   ]
  },
  {
   "cell_type": "code",
   "execution_count": 2,
   "metadata": {},
   "outputs": [],
   "source": [
    "# Import torch and other required modules\n",
    "import torch\n",
    "import numpy as np"
   ]
  },
  {
   "cell_type": "markdown",
   "metadata": {},
   "source": [
    "### 範例:\n",
    "### Function 1 - torch.from_array() / tensor.numpy()"
   ]
  },
  {
   "cell_type": "code",
   "execution_count": 3,
   "metadata": {},
   "outputs": [
    {
     "name": "stdout",
     "output_type": "stream",
     "text": [
      "a: <class 'numpy.ndarray'>, float64\n",
      "b: <class 'torch.Tensor'>, torch.float64\n",
      "c: <class 'torch.Tensor'>, torch.float64\n",
      "d: <class 'numpy.ndarray'>, float64\n"
     ]
    }
   ],
   "source": [
    "# Example 1 - 將torch tensor與numpy ndarray互相轉換\n",
    "a = np.random.rand(1,2,3,3)\n",
    "print(f'a: {type(a)}, {a.dtype}')\n",
    "b = torch.from_numpy(a)\n",
    "print(f'b: {type(b)}, {b.dtype}')\n",
    "c = torch.tensor(a)\n",
    "print(f'c: {type(c)}, {c.dtype}')\n",
    "d = c.numpy()\n",
    "print(f'd: {type(d)}, {d.dtype}')"
   ]
  },
  {
   "cell_type": "code",
   "execution_count": 4,
   "metadata": {},
   "outputs": [
    {
     "name": "stdout",
     "output_type": "stream",
     "text": [
      "a: <class 'numpy.ndarray'>, int64\n",
      "b: <class 'torch.Tensor'>, torch.int64\n",
      "c: <class 'torch.Tensor'>, torch.int64\n",
      "d: <class 'numpy.ndarray'>, int64\n"
     ]
    }
   ],
   "source": [
    "# Example 2 - 經過轉換後，torch tensor與numpy array依然有相近的資料型態\n",
    "a = np.random.randint(low=0, high=10, size=(2,2))\n",
    "print(f'a: {type(a)}, {a.dtype}')\n",
    "b = torch.from_numpy(a)\n",
    "print(f'b: {type(b)}, {b.dtype}')\n",
    "c = torch.tensor(a)\n",
    "print(f'c: {type(c)}, {c.dtype}')\n",
    "d = c.numpy()\n",
    "print(f'd: {type(d)}, {d.dtype}')"
   ]
  },
  {
   "cell_type": "markdown",
   "metadata": {},
   "source": [
    "### Function 1 - *is_floating_point*"
   ]
  },
  {
   "cell_type": "code",
   "execution_count": 5,
   "metadata": {},
   "outputs": [
    {
     "name": "stdout",
     "output_type": "stream",
     "text": [
      "a: [[[[0.41851298 0.08343198 0.46596248]\n",
      "   [0.87452116 0.27948398 0.81770913]\n",
      "   [0.38546347 0.86096889 0.39404516]]\n",
      "\n",
      "  [[0.15365514 0.26366203 0.9238509 ]\n",
      "   [0.61517688 0.04456527 0.12946831]\n",
      "   [0.60965313 0.59837361 0.76711803]]]]\n",
      "float: True\n"
     ]
    }
   ],
   "source": [
    "# Example 1 - ### 檢查是否為float的形式 ###\n",
    "a = np.random.rand(1,2,3,3)\n",
    "print(f'a: {a}')\n",
    "print(f'float: {torch.is_floating_point(torch.tensor(a))}')"
   ]
  },
  {
   "cell_type": "code",
   "execution_count": 7,
   "metadata": {},
   "outputs": [
    {
     "name": "stdout",
     "output_type": "stream",
     "text": [
      "a: [[2 0]\n",
      " [4 2]]\n",
      "float: False\n"
     ]
    }
   ],
   "source": [
    "# Example 2 - ### 用 randint讓 type 轉為int ###\n",
    "a = np.random.randint(low=0, high=10, size=(2,2))\n",
    "print(f'a: {a}')\n",
    "print(f'float: {torch.is_floating_point(torch.tensor(a))}')"
   ]
  },
  {
   "cell_type": "markdown",
   "metadata": {},
   "source": [
    "### Function 2 - set_printoptions"
   ]
  },
  {
   "cell_type": "code",
   "execution_count": 17,
   "metadata": {},
   "outputs": [
    {
     "name": "stdout",
     "output_type": "stream",
     "text": [
      "a: [[[[0.44770119 0.51822781 0.85435222]\n",
      "   [0.51209556 0.23600773 0.40953801]\n",
      "   [0.09872217 0.99602827 0.04723731]]\n",
      "\n",
      "  [[0.5847554  0.38406126 0.826236  ]\n",
      "   [0.93881876 0.43435902 0.61713536]\n",
      "   [0.27454704 0.91902008 0.410688  ]]]]\n",
      "tensor([[[[0.45, 0.52, 0.85],\n",
      "          [0.51, 0.24, 0.41],\n",
      "          [0.10, 1.00, 0.05]],\n",
      "\n",
      "         [[0.58, 0.38, 0.83],\n",
      "          [0.94, 0.43, 0.62],\n",
      "          [0.27, 0.92, 0.41]]]],\n",
      "       dtype=torch.float64)\n"
     ]
    }
   ],
   "source": [
    "# Example 1 - ### 用 set_printoptions 加入顯示第幾小數點來設定torch顯示的形式 ###\n",
    "a = np.random.rand(1,2,3,3)\n",
    "print(f'a: {a}')\n",
    "torch.set_printoptions(precision=2)\n",
    "print(f'{torch.tensor(a)}')"
   ]
  },
  {
   "cell_type": "code",
   "execution_count": 21,
   "metadata": {},
   "outputs": [
    {
     "name": "stdout",
     "output_type": "stream",
     "text": [
      "tensor([[[[0.45, 0.52, 0.85],\n",
      "          [0.51, 0.24, 0.41],\n",
      "          [0.10, 1.00, 0.05]],\n",
      "\n",
      "         [[0.58, 0.38, 0.83],\n",
      "          [0.94, 0.43, 0.62],\n",
      "          [0.27, 0.92, 0.41]]]],\n",
      "       dtype=torch.float64)\n"
     ]
    }
   ],
   "source": [
    "# Example 2 - ### 用 set_printoptions 使用其他參數來設定torch顯示的形式 ###\n",
    "torch.set_printoptions(precision=2, edgeitems=4, linewidth=32)\n",
    "print(f'{torch.tensor(a)}')"
   ]
  },
  {
   "cell_type": "markdown",
   "metadata": {},
   "source": [
    "### Function 3 - numel"
   ]
  },
  {
   "cell_type": "code",
   "execution_count": 5,
   "metadata": {},
   "outputs": [
    {
     "data": {
      "text/plain": [
       "120"
      ]
     },
     "execution_count": 5,
     "metadata": {},
     "output_type": "execute_result"
    }
   ],
   "source": [
    "# Example 1 - ### 返回有幾個元素 ###\n",
    "a = torch.randn(1, 2, 3, 4, 5)\n",
    "torch.numel(a)"
   ]
  },
  {
   "cell_type": "code",
   "execution_count": 6,
   "metadata": {},
   "outputs": [
    {
     "data": {
      "text/plain": [
       "4"
      ]
     },
     "execution_count": 6,
     "metadata": {},
     "output_type": "execute_result"
    }
   ],
   "source": [
    "# Example 2 - ### 先用np轉換torch的型式再用numel返回有幾個元素 ###\n",
    "a = np.random.randint(low=0, high=10, size=(2,2))\n",
    "b = torch.from_numpy(a)\n",
    "torch.numel(b)"
   ]
  },
  {
   "cell_type": "markdown",
   "metadata": {},
   "source": [
    "### Function 4 - torch.unsqueeze() / torch.squeeze()"
   ]
  },
  {
   "cell_type": "code",
   "execution_count": 10,
   "metadata": {},
   "outputs": [
    {
     "name": "stdout",
     "output_type": "stream",
     "text": [
      "b: <class 'torch.Tensor'>, torch.Size([2, 3, 4, 5])\n",
      "b: <class 'torch.Tensor'>, torch.Size([1, 2, 3, 4, 5])\n"
     ]
    }
   ],
   "source": [
    "# Example 1 - ### squeeze()： 维度壓缩，去除為1的的维度 ###\n",
    "a = torch.randn(1, 2, 3, 4, 5)\n",
    "b = torch.squeeze(a)\n",
    "print(f'b: {type(b)}, {b.shape}')\n",
    "\n",
    "# 帶參數：\n",
    "a = torch.randn(1, 2, 3, 4, 5)\n",
    "# 因第2為度不為1 -> 原樣\n",
    "b = torch.squeeze(a, 2)\n",
    "print(f'b: {type(b)}, {b.shape}')"
   ]
  },
  {
   "cell_type": "code",
   "execution_count": 12,
   "metadata": {},
   "outputs": [],
   "source": [
    "# Example 2 - ### ㄋqueeze()： 维度壓缩，去除為1的的维度 ###\n",
    "a = torch.randn(1, 2, 3, 4, 5)\n",
    "b = torch.squeeze(a)\n",
    "print(f'b: {type(b)}, {b.shape}')\n",
    "\n",
    "# 帶參數：\n",
    "a = torch.randn(1, 2, 3, 4, 5)\n",
    "# 因第2為度不為1 -> 原樣\n",
    "b = torch.squeeze(a, 2)\n",
    "print(f'b: {type(b)}, {b.shape}')"
   ]
  },
  {
   "cell_type": "code",
   "execution_count": null,
   "metadata": {},
   "outputs": [],
   "source": []
  }
 ],
 "metadata": {
  "kernelspec": {
   "display_name": "Python 3",
   "language": "python",
   "name": "python3"
  },
  "language_info": {
   "codemirror_mode": {
    "name": "ipython",
    "version": 3
   },
   "file_extension": ".py",
   "mimetype": "text/x-python",
   "name": "python",
   "nbconvert_exporter": "python",
   "pygments_lexer": "ipython3",
   "version": "3.6.9"
  }
 },
 "nbformat": 4,
 "nbformat_minor": 2
}
