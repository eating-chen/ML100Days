{
 "cells": [
  {
   "cell_type": "code",
   "execution_count": 1,
   "metadata": {},
   "outputs": [],
   "source": [
    "import torch\n",
    "import torch.nn as nn\n",
    "import torchvision.models as models\n",
    "import torch.nn.functional as F\n",
    "import numpy as np"
   ]
  },
  {
   "cell_type": "markdown",
   "metadata": {},
   "source": [
    "## 依照指示取出模型特定層的資訊"
   ]
  },
  {
   "cell_type": "code",
   "execution_count": 2,
   "metadata": {},
   "outputs": [],
   "source": [
    "# Define model\n",
    "class TheModelClass(nn.Module):\n",
    "    def __init__(self):\n",
    "        super(TheModelClass, self).__init__()\n",
    "        self.conv1 = nn.Conv2d(3, 6, 5)\n",
    "        self.pool = nn.MaxPool2d(2, 2)\n",
    "        self.conv2 = nn.Conv2d(6, 16, 5)\n",
    "        self.fc1 = nn.Linear(16* 5 * 5, 120)\n",
    "        self.fc2 = nn.Linear(120, 84)\n",
    "        self.fc3 = nn.Linear(84, 10)\n",
    "\n",
    "    def forward(self, x):\n",
    "        x = self.pool(F.relu(self.conv1(x)))\n",
    "        x = self.pool(F.relu(self.conv2(x)))\n",
    "        x = x.view(-1, 16 * 5 * 5)\n",
    "        x = F.relu(self.fc1(x))\n",
    "        x = F.relu(self.fc2(x))\n",
    "        x = self.fc3(x)\n",
    "        return x\n",
    "\n",
    "# Initialize model\n",
    "model = TheModelClass()\n"
   ]
  },
  {
   "cell_type": "markdown",
   "metadata": {},
   "source": [
    "### 取出 self.pool層兩次的輸出，包含：\n",
    "* x = self.pool(F.relu(self.conv1(x)))\n",
    "* x = self.pool(F.relu(self.conv2(x)))"
   ]
  },
  {
   "cell_type": "code",
   "execution_count": 3,
   "metadata": {},
   "outputs": [
    {
     "name": "stdout",
     "output_type": "stream",
     "text": [
      "conv1\n",
      "pool\n",
      "conv2\n",
      "fc1\n",
      "fc2\n",
      "fc3\n"
     ]
    },
    {
     "data": {
      "text/plain": [
       "<bound method Module.children of TheModelClass(\n",
       "  (conv1): Conv2d(3, 6, kernel_size=(5, 5), stride=(1, 1))\n",
       "  (pool): MaxPool2d(kernel_size=2, stride=2, padding=0, dilation=1, ceil_mode=False)\n",
       "  (conv2): Conv2d(6, 16, kernel_size=(5, 5), stride=(1, 1))\n",
       "  (fc1): Linear(in_features=400, out_features=120, bias=True)\n",
       "  (fc2): Linear(in_features=120, out_features=84, bias=True)\n",
       "  (fc3): Linear(in_features=84, out_features=10, bias=True)\n",
       ")>"
      ]
     },
     "execution_count": 3,
     "metadata": {},
     "output_type": "execute_result"
    }
   ],
   "source": [
    "for name,_ in model.named_children():\n",
    "    print(name)\n",
    "\n",
    "model.children"
   ]
  },
  {
   "cell_type": "code",
   "execution_count": 4,
   "metadata": {},
   "outputs": [
    {
     "data": {
      "text/plain": [
       "<torch.utils.hooks.RemovableHandle at 0x7f1478ebc198>"
      ]
     },
     "execution_count": 4,
     "metadata": {},
     "output_type": "execute_result"
    }
   ],
   "source": [
    "outputs= []\n",
    "def layer1_hook(module, input_, output):\n",
    "    outputs.append(output)\n",
    "\n",
    "model.pool.register_forward_hook(layer1_hook)"
   ]
  },
  {
   "cell_type": "code",
   "execution_count": 5,
   "metadata": {},
   "outputs": [],
   "source": [
    "input_ = torch.randn(1, 3, 32, 32)\n",
    "output = model(input_)"
   ]
  },
  {
   "cell_type": "code",
   "execution_count": 6,
   "metadata": {},
   "outputs": [
    {
     "data": {
      "text/plain": [
       "[tensor([[[[1.6354, 0.0000, 0.3015,  ..., 0.3398, 0.0000, 0.6202],\n",
       "           [0.6096, 1.0233, 0.2651,  ..., 0.2344, 0.2728, 0.0027],\n",
       "           [1.0590, 0.9741, 0.2907,  ..., 0.7530, 0.2738, 0.4453],\n",
       "           ...,\n",
       "           [0.0000, 0.4490, 1.4842,  ..., 0.8040, 0.3499, 0.9660],\n",
       "           [0.7111, 0.5603, 0.0892,  ..., 0.0238, 0.0000, 0.2151],\n",
       "           [0.7337, 1.0385, 0.0322,  ..., 1.1635, 0.1962, 0.8472]],\n",
       " \n",
       "          [[0.1421, 0.6391, 0.6246,  ..., 0.2168, 0.1412, 0.3752],\n",
       "           [0.7152, 0.1153, 0.8292,  ..., 0.9035, 0.9681, 0.4326],\n",
       "           [0.7761, 0.4431, 0.7572,  ..., 0.2474, 0.0288, 0.3833],\n",
       "           ...,\n",
       "           [0.0679, 0.1868, 0.8185,  ..., 0.5477, 0.7323, 0.3987],\n",
       "           [0.6865, 0.0391, 0.3622,  ..., 0.0000, 0.9076, 1.1645],\n",
       "           [0.9711, 0.5825, 0.8095,  ..., 0.5533, 0.2704, 0.4104]],\n",
       " \n",
       "          [[0.1928, 0.6503, 0.1903,  ..., 0.3488, 0.3337, 0.4096],\n",
       "           [0.7885, 0.0419, 0.5395,  ..., 1.0474, 1.0857, 1.0585],\n",
       "           [0.3257, 0.0760, 0.4508,  ..., 0.4496, 0.0000, 0.0633],\n",
       "           ...,\n",
       "           [0.9512, 1.9611, 0.7931,  ..., 1.1905, 1.5751, 0.8206],\n",
       "           [0.5018, 0.2373, 0.9446,  ..., 0.5401, 0.0472, 0.1696],\n",
       "           [0.4929, 0.2522, 0.6764,  ..., 0.1205, 0.6866, 0.7346]],\n",
       " \n",
       "          [[1.0108, 0.6283, 0.5021,  ..., 1.2354, 0.2944, 1.2971],\n",
       "           [0.2187, 0.1196, 0.0000,  ..., 0.3444, 0.4306, 1.2982],\n",
       "           [0.4020, 0.5013, 0.6411,  ..., 0.1043, 1.1797, 0.8246],\n",
       "           ...,\n",
       "           [0.2173, 0.3893, 0.9245,  ..., 0.2400, 1.4737, 0.6612],\n",
       "           [0.4428, 1.2462, 1.0769,  ..., 0.3082, 0.6560, 0.3224],\n",
       "           [0.4710, 0.6672, 0.4780,  ..., 1.0428, 0.0351, 0.8671]],\n",
       " \n",
       "          [[0.4211, 0.7452, 1.1196,  ..., 0.5077, 0.2853, 0.6185],\n",
       "           [0.0645, 0.9180, 0.9024,  ..., 0.5845, 1.0184, 1.0909],\n",
       "           [0.1130, 0.0067, 0.4652,  ..., 0.6524, 0.9222, 1.5138],\n",
       "           ...,\n",
       "           [1.4529, 0.1588, 0.5813,  ..., 0.5436, 0.7009, 0.9324],\n",
       "           [0.6003, 0.5118, 1.1346,  ..., 1.0742, 1.1754, 0.6591],\n",
       "           [0.2904, 0.1984, 0.5310,  ..., 0.0000, 0.6938, 1.0487]],\n",
       " \n",
       "          [[0.6727, 0.1580, 0.3910,  ..., 0.8071, 0.4740, 0.1901],\n",
       "           [1.6919, 0.7933, 0.8277,  ..., 0.2628, 0.5121, 1.0524],\n",
       "           [1.0226, 0.6691, 0.0561,  ..., 0.7973, 0.7528, 1.4691],\n",
       "           ...,\n",
       "           [0.4953, 0.2881, 0.6886,  ..., 0.5899, 0.0671, 0.9606],\n",
       "           [0.3001, 0.3711, 0.7239,  ..., 1.0360, 0.6346, 0.7447],\n",
       "           [0.0271, 0.5846, 0.6237,  ..., 1.6701, 0.5066, 0.7013]]]],\n",
       "        grad_fn=<MaxPool2DWithIndicesBackward>),\n",
       " tensor([[[[0.8559, 0.6940, 0.6550, 0.5098, 0.6095],\n",
       "           [0.6460, 0.6040, 0.7094, 0.3971, 0.5671],\n",
       "           [0.8632, 0.4452, 0.6522, 0.5237, 0.9177],\n",
       "           [0.7994, 0.4546, 0.4553, 0.8600, 0.5260],\n",
       "           [0.5610, 0.3124, 0.7584, 0.8409, 0.7837]],\n",
       " \n",
       "          [[0.7044, 0.3627, 0.2289, 0.1233, 0.3536],\n",
       "           [0.5042, 0.7688, 0.1626, 0.2102, 0.6823],\n",
       "           [0.3961, 0.4250, 0.4210, 0.4018, 0.2865],\n",
       "           [0.3896, 0.2061, 0.3606, 0.2016, 0.6238],\n",
       "           [0.2873, 0.6095, 0.3269, 0.4909, 0.2075]],\n",
       " \n",
       "          [[0.0000, 0.0000, 0.0000, 0.0000, 0.0000],\n",
       "           [0.0000, 0.0000, 0.0000, 0.0000, 0.0000],\n",
       "           [0.0000, 0.0000, 0.0000, 0.0000, 0.0000],\n",
       "           [0.0000, 0.0000, 0.0000, 0.0000, 0.0000],\n",
       "           [0.0000, 0.0000, 0.0000, 0.0000, 0.0000]],\n",
       " \n",
       "          [[0.0000, 0.0000, 0.0000, 0.0715, 0.0000],\n",
       "           [0.0000, 0.0000, 0.0000, 0.0000, 0.0000],\n",
       "           [0.0000, 0.1024, 0.0000, 0.0000, 0.1534],\n",
       "           [0.0000, 0.1244, 0.0000, 0.0000, 0.0000],\n",
       "           [0.0000, 0.0000, 0.0000, 0.0000, 0.0000]],\n",
       " \n",
       "          [[0.1843, 0.4714, 0.2128, 0.6731, 0.3625],\n",
       "           [0.0502, 0.1597, 0.3790, 0.5183, 0.4564],\n",
       "           [0.0643, 0.2840, 0.3630, 0.4825, 0.2584],\n",
       "           [0.2843, 0.4283, 0.2468, 0.4527, 0.4268],\n",
       "           [0.4027, 0.6972, 0.2355, 0.4586, 0.6343]],\n",
       " \n",
       "          [[0.0000, 0.0000, 0.0000, 0.0000, 0.0000],\n",
       "           [0.0000, 0.0000, 0.0000, 0.0000, 0.0000],\n",
       "           [0.0000, 0.0000, 0.0000, 0.0000, 0.0000],\n",
       "           [0.0000, 0.0000, 0.0000, 0.0000, 0.0000],\n",
       "           [0.0000, 0.0000, 0.0000, 0.0000, 0.0000]],\n",
       " \n",
       "          [[0.5192, 0.3705, 0.7053, 0.5329, 0.5292],\n",
       "           [0.6059, 0.4311, 0.6252, 0.6767, 0.2677],\n",
       "           [0.2670, 0.3399, 0.5251, 0.3560, 0.7122],\n",
       "           [0.4839, 0.6112, 0.4746, 0.4715, 0.5471],\n",
       "           [0.4430, 0.4754, 0.4857, 0.5548, 0.5035]],\n",
       " \n",
       "          [[0.9959, 0.9879, 0.8105, 0.7372, 1.0943],\n",
       "           [1.1826, 1.0141, 0.8502, 0.7626, 1.1367],\n",
       "           [0.9256, 0.9547, 0.7102, 0.7925, 0.8978],\n",
       "           [0.6975, 0.8800, 1.0859, 1.0354, 0.7331],\n",
       "           [0.8659, 0.7098, 0.8868, 0.6588, 0.7537]],\n",
       " \n",
       "          [[0.0000, 0.0000, 0.1104, 0.0000, 0.0000],\n",
       "           [0.0000, 0.0000, 0.2698, 0.0000, 0.0598],\n",
       "           [0.0000, 0.0000, 0.0000, 0.0000, 0.0000],\n",
       "           [0.0000, 0.1673, 0.2696, 0.1928, 0.1526],\n",
       "           [0.0000, 0.0000, 0.3115, 0.0000, 0.0000]],\n",
       " \n",
       "          [[0.0000, 0.0000, 0.0000, 0.0000, 0.0000],\n",
       "           [0.0000, 0.0000, 0.0000, 0.0000, 0.0000],\n",
       "           [0.0000, 0.0000, 0.0000, 0.0000, 0.0000],\n",
       "           [0.0191, 0.0000, 0.0000, 0.0000, 0.0000],\n",
       "           [0.0000, 0.0000, 0.0000, 0.0000, 0.0000]],\n",
       " \n",
       "          [[0.0000, 0.0000, 0.0000, 0.0000, 0.0000],\n",
       "           [0.0000, 0.0000, 0.0000, 0.0000, 0.0000],\n",
       "           [0.0000, 0.0000, 0.0000, 0.0000, 0.0000],\n",
       "           [0.0000, 0.0000, 0.0000, 0.0000, 0.0000],\n",
       "           [0.0000, 0.0000, 0.0000, 0.0000, 0.0000]],\n",
       " \n",
       "          [[0.4869, 0.2312, 0.0179, 0.3259, 0.5680],\n",
       "           [0.5230, 0.6653, 0.0693, 0.4299, 0.3904],\n",
       "           [0.5218, 0.3295, 0.4002, 0.3985, 0.1360],\n",
       "           [0.4043, 0.0555, 0.2805, 0.3532, 0.3448],\n",
       "           [0.1645, 0.0932, 0.4068, 0.1095, 0.2934]],\n",
       " \n",
       "          [[0.0000, 0.0000, 0.0000, 0.0000, 0.0000],\n",
       "           [0.0000, 0.0000, 0.0000, 0.0000, 0.0000],\n",
       "           [0.0000, 0.0000, 0.0000, 0.0000, 0.1225],\n",
       "           [0.0000, 0.0000, 0.0000, 0.0000, 0.0000],\n",
       "           [0.0564, 0.0000, 0.0000, 0.0000, 0.0000]],\n",
       " \n",
       "          [[0.8378, 0.8285, 0.8202, 0.6523, 0.8201],\n",
       "           [0.8436, 0.7634, 0.6645, 0.7132, 0.8731],\n",
       "           [0.9247, 0.6223, 0.9538, 0.9355, 1.1440],\n",
       "           [0.8847, 0.9434, 0.8532, 0.6405, 0.9572],\n",
       "           [0.7221, 0.9233, 1.1739, 0.8091, 0.9841]],\n",
       " \n",
       "          [[0.0000, 0.0750, 0.0000, 0.0000, 0.0000],\n",
       "           [0.1536, 0.1105, 0.0000, 0.0000, 0.0000],\n",
       "           [0.0000, 0.0000, 0.0000, 0.1849, 0.0000],\n",
       "           [0.0000, 0.0680, 0.0000, 0.0000, 0.0000],\n",
       "           [0.2039, 0.0000, 0.0000, 0.0686, 0.0000]],\n",
       " \n",
       "          [[0.0000, 0.0000, 0.0000, 0.1940, 0.1085],\n",
       "           [0.1731, 0.0000, 0.0000, 0.0000, 0.0000],\n",
       "           [0.1852, 0.0946, 0.0000, 0.0000, 0.0299],\n",
       "           [0.0000, 0.0000, 0.0496, 0.0000, 0.1900],\n",
       "           [0.0000, 0.0000, 0.0946, 0.0975, 0.2272]]]],\n",
       "        grad_fn=<MaxPool2DWithIndicesBackward>)]"
      ]
     },
     "execution_count": 6,
     "metadata": {},
     "output_type": "execute_result"
    }
   ],
   "source": [
    "outputs"
   ]
  },
  {
   "cell_type": "code",
   "execution_count": 11,
   "metadata": {},
   "outputs": [
    {
     "name": "stdout",
     "output_type": "stream",
     "text": [
      "torch.Size([1, 6, 14, 14])\n",
      "torch.Size([1, 16, 5, 5])\n"
     ]
    }
   ],
   "source": [
    "print(outputs[0].shape)\n",
    "print(outputs[1].shape)"
   ]
  },
  {
   "cell_type": "markdown",
   "metadata": {},
   "source": [
    "## 加入自定義 initialization fuction"
   ]
  },
  {
   "cell_type": "markdown",
   "metadata": {},
   "source": [
    "#### 對所有Conv2D層使用自定義initialization function\n",
    "* weight : nn.init.kaiming_normal_\n",
    "* bias : 全部輸入1"
   ]
  },
  {
   "cell_type": "code",
   "execution_count": 14,
   "metadata": {},
   "outputs": [
    {
     "data": {
      "text/plain": [
       "TheModelClass(\n",
       "  (conv1): Conv2d(3, 6, kernel_size=(5, 5), stride=(1, 1))\n",
       "  (pool): MaxPool2d(kernel_size=2, stride=2, padding=0, dilation=1, ceil_mode=False)\n",
       "  (conv2): Conv2d(6, 16, kernel_size=(5, 5), stride=(1, 1))\n",
       "  (fc1): Linear(in_features=400, out_features=120, bias=True)\n",
       "  (fc2): Linear(in_features=120, out_features=84, bias=True)\n",
       "  (fc3): Linear(in_features=84, out_features=10, bias=True)\n",
       ")"
      ]
     },
     "execution_count": 14,
     "metadata": {},
     "output_type": "execute_result"
    }
   ],
   "source": [
    "from torch.nn import init\n",
    "\n",
    "def weights_init(m):\n",
    "    #classname = m.__class__.__name__\n",
    "    if isinstance(m, nn.Conv2d):\n",
    "        #torch.nn.init.xavier_uniform_(m.weight)\n",
    "        nn.init.kaiming_normal_(m.weight.data,\n",
    "                                    a=0,\n",
    "                                    mode='fan_out',\n",
    "                                    nonlinearity='relu')\n",
    "        if m.bias is not None:\n",
    "            m.bias.data.fill_(1)\n",
    "            \n",
    "model.apply(weights_init)"
   ]
  },
  {
   "cell_type": "markdown",
   "metadata": {},
   "source": [
    "#### 查看 conv層的bias是否皆為1"
   ]
  },
  {
   "cell_type": "code",
   "execution_count": 15,
   "metadata": {},
   "outputs": [
    {
     "name": "stdout",
     "output_type": "stream",
     "text": [
      "conv1.bias Parameter containing:\n",
      "tensor([1., 1., 1., 1., 1., 1.], requires_grad=True)\n",
      "\n",
      "\n",
      "conv2.bias Parameter containing:\n",
      "tensor([1., 1., 1., 1., 1., 1., 1., 1., 1., 1., 1., 1., 1., 1., 1., 1.],\n",
      "       requires_grad=True)\n",
      "\n",
      "\n"
     ]
    }
   ],
   "source": [
    "for name, parameters in model.named_parameters():\n",
    "    if ('conv' in name) and ('bias' in name):\n",
    "        print(name, parameters)\n",
    "        print('\\n')"
   ]
  },
  {
   "cell_type": "code",
   "execution_count": null,
   "metadata": {},
   "outputs": [],
   "source": []
  }
 ],
 "metadata": {
  "kernelspec": {
   "display_name": "Python 3",
   "language": "python",
   "name": "python3"
  },
  "language_info": {
   "codemirror_mode": {
    "name": "ipython",
    "version": 3
   },
   "file_extension": ".py",
   "mimetype": "text/x-python",
   "name": "python",
   "nbconvert_exporter": "python",
   "pygments_lexer": "ipython3",
   "version": "3.6.9"
  }
 },
 "nbformat": 4,
 "nbformat_minor": 2
}
