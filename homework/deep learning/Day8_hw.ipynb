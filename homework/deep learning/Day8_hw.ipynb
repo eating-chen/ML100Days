{
 "cells": [
  {
   "cell_type": "code",
   "execution_count": 1,
   "metadata": {},
   "outputs": [],
   "source": [
    "import torch\n",
    "import torch.nn as nn\n",
    "import torchvision.models as models\n",
    "import torch.nn.functional as F\n",
    "import numpy as np"
   ]
  },
  {
   "cell_type": "markdown",
   "metadata": {},
   "source": [
    "## 依照指示取出模型特定層的資訊"
   ]
  },
  {
   "cell_type": "code",
   "execution_count": 2,
   "metadata": {},
   "outputs": [],
   "source": [
    "# Define model\n",
    "class TheModelClass(nn.Module):\n",
    "    def __init__(self):\n",
    "        super(TheModelClass, self).__init__()\n",
    "        self.conv1 = nn.Conv2d(3, 6, 5)\n",
    "        self.pool = nn.MaxPool2d(2, 2)\n",
    "        self.conv2 = nn.Conv2d(6, 16, 5)\n",
    "        self.fc1 = nn.Linear(16* 5 * 5, 120)\n",
    "        self.fc2 = nn.Linear(120, 84)\n",
    "        self.fc3 = nn.Linear(84, 10)\n",
    "\n",
    "    def forward(self, x):\n",
    "        x = self.pool(F.relu(self.conv1(x)))\n",
    "        x = self.pool(F.relu(self.conv2(x)))\n",
    "        x = x.view(-1, 16 * 5 * 5)\n",
    "        x = F.relu(self.fc1(x))\n",
    "        x = F.relu(self.fc2(x))\n",
    "        x = self.fc3(x)\n",
    "        return x\n",
    "\n",
    "# Initialize model\n",
    "model = TheModelClass()\n"
   ]
  },
  {
   "cell_type": "markdown",
   "metadata": {},
   "source": [
    "### 取出 self.pool層兩次的輸出，包含：\n",
    "* x = self.pool(F.relu(self.conv1(x)))\n",
    "* x = self.pool(F.relu(self.conv2(x)))"
   ]
  },
  {
   "cell_type": "code",
   "execution_count": 3,
   "metadata": {},
   "outputs": [
    {
     "name": "stdout",
     "output_type": "stream",
     "text": [
      "conv1\n",
      "pool\n",
      "conv2\n",
      "fc1\n",
      "fc2\n",
      "fc3\n"
     ]
    },
    {
     "data": {
      "text/plain": [
       "<bound method Module.children of TheModelClass(\n",
       "  (conv1): Conv2d(3, 6, kernel_size=(5, 5), stride=(1, 1))\n",
       "  (pool): MaxPool2d(kernel_size=2, stride=2, padding=0, dilation=1, ceil_mode=False)\n",
       "  (conv2): Conv2d(6, 16, kernel_size=(5, 5), stride=(1, 1))\n",
       "  (fc1): Linear(in_features=400, out_features=120, bias=True)\n",
       "  (fc2): Linear(in_features=120, out_features=84, bias=True)\n",
       "  (fc3): Linear(in_features=84, out_features=10, bias=True)\n",
       ")>"
      ]
     },
     "execution_count": 3,
     "metadata": {},
     "output_type": "execute_result"
    }
   ],
   "source": [
    "for name,_ in model.named_children():\n",
    "    print(name)\n",
    "\n",
    "model.children"
   ]
  },
  {
   "cell_type": "code",
   "execution_count": 4,
   "metadata": {},
   "outputs": [
    {
     "data": {
      "text/plain": [
       "<torch.utils.hooks.RemovableHandle at 0x7f1352f4f4a8>"
      ]
     },
     "execution_count": 4,
     "metadata": {},
     "output_type": "execute_result"
    }
   ],
   "source": [
    "outputs= []\n",
    "def layer1_hook(module, input_, output):\n",
    "    outputs.append(F.relu(output))\n",
    "\n",
    "model.conv1.register_forward_hook(layer1_hook)\n",
    "model.conv2.register_forward_hook(layer1_hook)"
   ]
  },
  {
   "cell_type": "code",
   "execution_count": 5,
   "metadata": {},
   "outputs": [],
   "source": [
    "input_ = torch.randn(1, 3, 32, 32)\n",
    "output = model(input_)"
   ]
  },
  {
   "cell_type": "code",
   "execution_count": 6,
   "metadata": {},
   "outputs": [
    {
     "data": {
      "text/plain": [
       "[tensor([[[[0.5198, 0.0000, 0.0000,  ..., 0.0000, 0.7297, 0.0000],\n",
       "           [0.0000, 0.0000, 0.1840,  ..., 0.4455, 0.0000, 0.0000],\n",
       "           [0.4289, 0.0000, 0.0000,  ..., 0.2774, 0.5025, 0.2885],\n",
       "           ...,\n",
       "           [0.0000, 0.0000, 0.6796,  ..., 0.1752, 0.1801, 0.0000],\n",
       "           [0.0000, 0.0465, 0.8645,  ..., 0.1453, 0.0000, 0.0455],\n",
       "           [0.1465, 0.3368, 0.0000,  ..., 0.2942, 0.0000, 0.0000]],\n",
       " \n",
       "          [[0.0000, 0.0000, 0.0746,  ..., 0.1057, 0.1644, 0.9220],\n",
       "           [0.0000, 1.1292, 0.1774,  ..., 0.6501, 0.6280, 0.0000],\n",
       "           [0.0000, 0.1598, 0.4203,  ..., 0.0000, 0.1140, 0.0000],\n",
       "           ...,\n",
       "           [0.4834, 0.2920, 0.0000,  ..., 0.0038, 0.5905, 0.7987],\n",
       "           [0.0000, 0.2492, 0.2636,  ..., 1.1121, 0.0000, 0.6071],\n",
       "           [0.0858, 0.1911, 0.0000,  ..., 0.5022, 1.0636, 0.1988]],\n",
       " \n",
       "          [[0.0000, 1.0403, 0.0452,  ..., 0.1293, 0.6223, 0.0000],\n",
       "           [0.0000, 0.2887, 0.0000,  ..., 0.1918, 0.0000, 0.0000],\n",
       "           [0.2023, 0.0000, 0.1059,  ..., 0.0000, 0.0000, 0.0000],\n",
       "           ...,\n",
       "           [1.1476, 0.6972, 0.0000,  ..., 0.0000, 0.0000, 0.5111],\n",
       "           [0.2226, 0.0000, 0.0000,  ..., 0.0000, 0.0000, 0.0000],\n",
       "           [1.2919, 0.0000, 0.2611,  ..., 1.5274, 0.2653, 0.0000]],\n",
       " \n",
       "          [[0.4630, 0.0000, 1.1420,  ..., 0.0000, 0.0000, 0.0000],\n",
       "           [0.0000, 0.0000, 0.1646,  ..., 0.1138, 0.1126, 0.0000],\n",
       "           [0.3038, 0.0000, 0.0000,  ..., 0.3085, 0.0800, 0.0000],\n",
       "           ...,\n",
       "           [0.9630, 0.0000, 0.0000,  ..., 0.4607, 0.4134, 0.8672],\n",
       "           [1.2000, 0.0972, 0.0000,  ..., 0.5888, 0.1284, 0.0000],\n",
       "           [0.0723, 0.0000, 0.0000,  ..., 0.0000, 0.4680, 0.0000]],\n",
       " \n",
       "          [[0.0000, 0.8784, 0.1972,  ..., 0.8488, 0.0664, 0.8173],\n",
       "           [0.0864, 0.5432, 0.6355,  ..., 0.7044, 0.0000, 0.0000],\n",
       "           [0.6560, 0.0000, 0.0000,  ..., 0.0000, 0.0000, 0.0000],\n",
       "           ...,\n",
       "           [0.0000, 0.2180, 0.5917,  ..., 0.0000, 0.4421, 0.1784],\n",
       "           [0.0458, 0.0000, 0.0000,  ..., 0.0000, 0.6640, 0.0000],\n",
       "           [0.0664, 0.0515, 0.7399,  ..., 1.2859, 0.3199, 0.0000]],\n",
       " \n",
       "          [[0.0000, 0.4134, 0.0000,  ..., 0.7081, 0.6164, 2.0435],\n",
       "           [0.8766, 0.7091, 0.0000,  ..., 0.0000, 0.0000, 0.5526],\n",
       "           [0.2168, 0.4496, 0.9114,  ..., 0.0510, 0.5544, 0.0000],\n",
       "           ...,\n",
       "           [0.0000, 0.0000, 0.2919,  ..., 0.5605, 0.0000, 0.0000],\n",
       "           [0.0000, 0.0000, 0.7973,  ..., 0.1432, 0.1290, 0.0000],\n",
       "           [0.0000, 0.4698, 0.6919,  ..., 0.9692, 0.5221, 0.1648]]]],\n",
       "        grad_fn=<ReluBackward0>),\n",
       " tensor([[[[6.1249e-01, 6.7967e-01, 6.9830e-01,  ..., 6.5809e-01,\n",
       "            5.5663e-01, 6.8550e-01],\n",
       "           [5.0480e-01, 9.3667e-01, 8.7272e-01,  ..., 7.7063e-01,\n",
       "            4.6150e-01, 1.6667e-01],\n",
       "           [5.4321e-01, 5.8186e-01, 5.5264e-01,  ..., 7.3515e-01,\n",
       "            4.6335e-01, 4.9961e-01],\n",
       "           ...,\n",
       "           [3.8550e-01, 4.1442e-01, 4.0696e-01,  ..., 3.8081e-01,\n",
       "            5.8503e-01, 2.9427e-01],\n",
       "           [6.2324e-01, 2.9734e-01, 4.1166e-01,  ..., 8.7617e-01,\n",
       "            7.3765e-01, 1.0625e+00],\n",
       "           [5.6056e-01, 7.8450e-01, 3.1210e-01,  ..., 2.0137e-01,\n",
       "            8.4163e-01, 3.0396e-01]],\n",
       " \n",
       "          [[0.0000e+00, 0.0000e+00, 0.0000e+00,  ..., 0.0000e+00,\n",
       "            0.0000e+00, 0.0000e+00],\n",
       "           [0.0000e+00, 0.0000e+00, 0.0000e+00,  ..., 0.0000e+00,\n",
       "            0.0000e+00, 1.2789e-01],\n",
       "           [0.0000e+00, 0.0000e+00, 0.0000e+00,  ..., 0.0000e+00,\n",
       "            0.0000e+00, 0.0000e+00],\n",
       "           ...,\n",
       "           [0.0000e+00, 0.0000e+00, 0.0000e+00,  ..., 0.0000e+00,\n",
       "            0.0000e+00, 0.0000e+00],\n",
       "           [0.0000e+00, 0.0000e+00, 0.0000e+00,  ..., 0.0000e+00,\n",
       "            0.0000e+00, 0.0000e+00],\n",
       "           [0.0000e+00, 0.0000e+00, 0.0000e+00,  ..., 0.0000e+00,\n",
       "            0.0000e+00, 0.0000e+00]],\n",
       " \n",
       "          [[3.2225e-01, 0.0000e+00, 4.3392e-01,  ..., 5.1432e-01,\n",
       "            2.4319e-01, 5.3005e-01],\n",
       "           [4.1528e-01, 2.3279e-01, 7.3869e-04,  ..., 2.7426e-01,\n",
       "            1.7143e-01, 1.7391e-01],\n",
       "           [0.0000e+00, 3.8900e-01, 4.0714e-01,  ..., 4.2362e-01,\n",
       "            3.7121e-01, 2.1953e-01],\n",
       "           ...,\n",
       "           [3.5416e-01, 5.9280e-01, 1.5956e-01,  ..., 3.5804e-01,\n",
       "            3.7614e-01, 0.0000e+00],\n",
       "           [0.0000e+00, 2.7148e-01, 5.4753e-01,  ..., 2.5845e-01,\n",
       "            1.4914e-01, 5.6558e-01],\n",
       "           [7.1325e-02, 0.0000e+00, 0.0000e+00,  ..., 4.5684e-01,\n",
       "            8.8851e-02, 2.0366e-01]],\n",
       " \n",
       "          ...,\n",
       " \n",
       "          [[9.5206e-01, 1.1807e+00, 9.6628e-01,  ..., 1.4219e+00,\n",
       "            8.4341e-01, 9.6496e-01],\n",
       "           [1.0394e+00, 1.0477e+00, 8.0970e-01,  ..., 7.7846e-01,\n",
       "            6.4787e-01, 1.1314e+00],\n",
       "           [1.1853e+00, 9.4545e-01, 6.3637e-01,  ..., 1.0681e+00,\n",
       "            6.4994e-01, 1.2219e+00],\n",
       "           ...,\n",
       "           [7.9632e-01, 7.3726e-01, 5.5799e-01,  ..., 7.9310e-01,\n",
       "            1.1005e+00, 5.2339e-01],\n",
       "           [4.9318e-01, 9.3977e-01, 8.8432e-01,  ..., 9.8649e-01,\n",
       "            9.5962e-01, 8.9199e-01],\n",
       "           [5.5549e-01, 7.0181e-01, 6.3739e-01,  ..., 1.3746e+00,\n",
       "            6.6797e-01, 7.4411e-01]],\n",
       " \n",
       "          [[5.8644e-01, 3.3368e-01, 7.8891e-01,  ..., 1.1400e-01,\n",
       "            0.0000e+00, 3.8844e-01],\n",
       "           [5.8100e-01, 4.0043e-01, 5.8251e-02,  ..., 7.4514e-01,\n",
       "            5.4647e-01, 2.8788e-01],\n",
       "           [1.9806e-02, 2.3528e-01, 6.2558e-01,  ..., 2.7376e-01,\n",
       "            2.1025e-01, 1.5809e-01],\n",
       "           ...,\n",
       "           [0.0000e+00, 1.5402e-01, 5.9585e-01,  ..., 2.3865e-01,\n",
       "            2.4370e-01, 1.7143e-01],\n",
       "           [2.6913e-01, 4.5592e-01, 0.0000e+00,  ..., 2.8170e-01,\n",
       "            4.6320e-01, 6.5536e-01],\n",
       "           [2.2886e-01, 3.3887e-01, 8.6420e-02,  ..., 6.7196e-01,\n",
       "            3.8409e-01, 6.5625e-01]],\n",
       " \n",
       "          [[5.3568e-01, 0.0000e+00, 4.1052e-01,  ..., 2.3263e-01,\n",
       "            0.0000e+00, 2.6472e-01],\n",
       "           [0.0000e+00, 1.3547e-01, 9.9348e-02,  ..., 2.5371e-01,\n",
       "            3.5285e-01, 0.0000e+00],\n",
       "           [0.0000e+00, 2.7760e-01, 8.8556e-02,  ..., 1.6336e-01,\n",
       "            0.0000e+00, 2.7694e-01],\n",
       "           ...,\n",
       "           [0.0000e+00, 4.0137e-02, 2.1067e-01,  ..., 0.0000e+00,\n",
       "            0.0000e+00, 0.0000e+00],\n",
       "           [2.0388e-01, 0.0000e+00, 0.0000e+00,  ..., 2.8637e-01,\n",
       "            0.0000e+00, 2.1722e-01],\n",
       "           [0.0000e+00, 1.4132e-01, 0.0000e+00,  ..., 0.0000e+00,\n",
       "            1.4827e-01, 0.0000e+00]]]], grad_fn=<ReluBackward0>)]"
      ]
     },
     "execution_count": 6,
     "metadata": {},
     "output_type": "execute_result"
    }
   ],
   "source": [
    "outputs"
   ]
  },
  {
   "cell_type": "code",
   "execution_count": 7,
   "metadata": {},
   "outputs": [
    {
     "name": "stdout",
     "output_type": "stream",
     "text": [
      "torch.Size([1, 6, 28, 28])\n",
      "torch.Size([1, 16, 10, 10])\n"
     ]
    }
   ],
   "source": [
    "print(outputs[0].shape)\n",
    "print(outputs[1].shape)"
   ]
  },
  {
   "cell_type": "markdown",
   "metadata": {},
   "source": [
    "## 加入自定義 initialization fuction"
   ]
  },
  {
   "cell_type": "markdown",
   "metadata": {},
   "source": [
    "#### 對所有Conv2D層使用自定義initialization function\n",
    "* weight : nn.init.kaiming_normal_\n",
    "* bias : 全部輸入1"
   ]
  },
  {
   "cell_type": "code",
   "execution_count": 8,
   "metadata": {},
   "outputs": [
    {
     "data": {
      "text/plain": [
       "TheModelClass(\n",
       "  (conv1): Conv2d(3, 6, kernel_size=(5, 5), stride=(1, 1))\n",
       "  (pool): MaxPool2d(kernel_size=2, stride=2, padding=0, dilation=1, ceil_mode=False)\n",
       "  (conv2): Conv2d(6, 16, kernel_size=(5, 5), stride=(1, 1))\n",
       "  (fc1): Linear(in_features=400, out_features=120, bias=True)\n",
       "  (fc2): Linear(in_features=120, out_features=84, bias=True)\n",
       "  (fc3): Linear(in_features=84, out_features=10, bias=True)\n",
       ")"
      ]
     },
     "execution_count": 8,
     "metadata": {},
     "output_type": "execute_result"
    }
   ],
   "source": [
    "from torch.nn import init\n",
    "\n",
    "def weights_init(m):\n",
    "    #classname = m.__class__.__name__\n",
    "    if isinstance(m, nn.Conv2d):\n",
    "        #torch.nn.init.xavier_uniform_(m.weight)\n",
    "        nn.init.kaiming_normal_(m.weight.data,\n",
    "                                    a=0,\n",
    "                                    mode='fan_out',\n",
    "                                    nonlinearity='relu')\n",
    "        if m.bias is not None:\n",
    "            torch.nn.init.zeros_(m.bias)\n",
    "            \n",
    "model.apply(weights_init)"
   ]
  },
  {
   "cell_type": "markdown",
   "metadata": {},
   "source": [
    "#### 查看 conv層的bias是否皆為1"
   ]
  },
  {
   "cell_type": "code",
   "execution_count": 9,
   "metadata": {},
   "outputs": [
    {
     "name": "stdout",
     "output_type": "stream",
     "text": [
      "conv1.bias Parameter containing:\n",
      "tensor([0., 0., 0., 0., 0., 0.], requires_grad=True)\n",
      "\n",
      "\n",
      "conv2.bias Parameter containing:\n",
      "tensor([0., 0., 0., 0., 0., 0., 0., 0., 0., 0., 0., 0., 0., 0., 0., 0.],\n",
      "       requires_grad=True)\n",
      "\n",
      "\n"
     ]
    }
   ],
   "source": [
    "for name, parameters in model.named_parameters():\n",
    "    if ('conv' in name) and ('bias' in name):\n",
    "        print(name, parameters)\n",
    "        print('\\n')"
   ]
  },
  {
   "cell_type": "code",
   "execution_count": null,
   "metadata": {},
   "outputs": [],
   "source": []
  }
 ],
 "metadata": {
  "kernelspec": {
   "display_name": "Python 3",
   "language": "python",
   "name": "python3"
  },
  "language_info": {
   "codemirror_mode": {
    "name": "ipython",
    "version": 3
   },
   "file_extension": ".py",
   "mimetype": "text/x-python",
   "name": "python",
   "nbconvert_exporter": "python",
   "pygments_lexer": "ipython3",
   "version": "3.6.9"
  }
 },
 "nbformat": 4,
 "nbformat_minor": 2
}
