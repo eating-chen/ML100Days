{
 "cells": [
  {
   "cell_type": "markdown",
   "metadata": {
    "id": "OzgeqHEvW1aB"
   },
   "source": [
    "# 作業: RNN 可以做什麼？"
   ]
  },
  {
   "cell_type": "markdown",
   "metadata": {
    "id": "Y9hsWc7TXDbU"
   },
   "source": [
    "## [作業目標]\n",
    "瞭解目前 RNN 的應用領域\n",
    "1. 自然語言模型\n",
    "2. 股價預測\n",
    "3. 語音辨識\n",
    "4. 圖片描述\n",
    "5. 字幕生成\n"
   ]
  },
  {
   "cell_type": "markdown",
   "metadata": {
    "id": "AU8gNF_nWjYJ"
   },
   "source": [
    "## [作業重點]\n",
    "查詢 RNN 的應用，瞭解 RNN 可以做些什麼事，瞭解一下涉及的領域應用背景"
   ]
  },
  {
   "cell_type": "markdown",
   "metadata": {
    "id": "QPYgcakvJzMk"
   },
   "source": [
    "瞭解三大深度學習網路的差異後，在課程內容提到的的下列應用：\n",
    "\n",
    "1. 正負電影評價識別\n",
    "2. 真假新聞的識別。\n",
    "3. 語言翻譯\n",
    "4. 文章生成\n",
    "5. 聊天機器人\n",
    "6. 股價預測\n",
    "\n",
    "請學員網路查查除了有沒有其他更有用、有趣的 RNN 應用?\n",
    "\n",
    "\n",
    "\n"
   ]
  }
 ],
 "metadata": {
  "colab": {
   "authorship_tag": "ABX9TyN02J5+/xLCdmLrp4ygurq9",
   "name": "作業_RNN_applications.ipynb",
   "provenance": []
  },
  "kernelspec": {
   "display_name": "Python 3",
   "language": "python",
   "name": "python3"
  },
  "language_info": {
   "codemirror_mode": {
    "name": "ipython",
    "version": 3
   },
   "file_extension": ".py",
   "mimetype": "text/x-python",
   "name": "python",
   "nbconvert_exporter": "python",
   "pygments_lexer": "ipython3",
   "version": "3.6.9"
  }
 },
 "nbformat": 4,
 "nbformat_minor": 1
}
